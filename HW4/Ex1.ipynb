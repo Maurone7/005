{
 "cells": [
  {
   "cell_type": "markdown",
   "metadata": {},
   "source": [
    "# <center> Part A <center>"
   ]
  },
  {
   "cell_type": "markdown",
   "metadata": {},
   "source": [
    "$$\n",
    "\\begin{bmatrix}\n",
    "q_1 \\\\ \n",
    "q_2\n",
    "\\end{bmatrix}\n",
    "=\n",
    "\\frac{1}{(1-\\Omega^2)(1-9\\Omega^2)}\n",
    "\\begin{bmatrix}\n",
    "4-\\Omega^2 \\\\\n",
    "2(9-\\Omega^2)\n",
    "\\end{bmatrix}\n",
    "cos\\Omega t\n",
    "$$"
   ]
  },
  {
   "cell_type": "markdown",
   "metadata": {},
   "source": [
    "<center> <img src=\"Ex1.png\"> <center>"
   ]
  },
  {
   "cell_type": "markdown",
   "metadata": {},
   "source": [
    "The poles are at $\\pm 1$ and $\\pm \\frac{1}{\\sqrt{3}}$"
   ]
  },
  {
   "cell_type": "markdown",
   "metadata": {},
   "source": [
    "The zeros are at\n",
    "$$\n",
    "\\begin{bmatrix}\n",
    "\\pm 2 \\\\\n",
    "\\pm 3\n",
    "\\end{bmatrix}\n",
    "$$"
   ]
  },
  {
   "cell_type": "markdown",
   "metadata": {},
   "source": [
    "Given the simmetry I am just going to look at the positive side of the x-axis"
   ]
  },
  {
   "cell_type": "code",
   "execution_count": 8,
   "metadata": {},
   "outputs": [
    {
     "name": "stdout",
     "output_type": "stream",
     "text": [
      "[[0.04925025]\n",
      " [0.41985169]]\n",
      "[[-108.71609549]\n",
      " [-497.31092512]]\n",
      "(1, 0, 7)\n"
     ]
    },
    {
     "data": {
      "image/png": "[encoded data removed]",
      "text/plain": [
       "<Figure size 640x480 with 1 Axes>"
      ]
     },
     "metadata": {},
     "output_type": "display_data"
    },
    {
     "data": {
      "text/plain": [
       "(<matplotlib.legend.Legend at 0x12a9f4f50>, None)"
      ]
     },
     "execution_count": 8,
     "metadata": {},
     "output_type": "execute_result"
    }
   ],
   "source": [
    "import numpy as np\n",
    "import matplotlib.pyplot as plt\n",
    "import sympy as sp\n",
    "\n",
    "def func(Omega):\n",
    "    front_of_matrix = 1/((1-Omega**2)*(1-9*Omega**2))\n",
    "    matrix = np.array([[4-Omega**2],\n",
    "                       [2*(9-Omega**2)]])\n",
    "\n",
    "    return front_of_matrix*matrix\n",
    "\n",
    "Omega = sp.symbols('Omega')\n",
    "front_of_matrix = 1/((1-Omega**2)*(1-9*Omega**2))\n",
    "matrix = np.array([[4-Omega**2],\n",
    "                  [2*(9-Omega**2)]])\n",
    "\n",
    "# display(sp.Matrix(front_of_matrix*matrix*sp.cos(Omega)))\n",
    "print(func(np.pi/2))\n",
    "\n",
    "Omega = np.linspace(0,5,100)\n",
    "ohfdj = func(Omega)\n",
    "max_index = np.unravel_index(np.argmin(ohfdj), ohfdj.shape)\n",
    "print(func(0.34))\n",
    "print(max_index)\n",
    "plt.plot(Omega, func(Omega)[0, 0, :], label=r'$q_1$')\n",
    "plt.plot(Omega, func(Omega)[1, 0, :], label=r'$q_2$')\n",
    "plt.xlabel(r'$\\Omega$'), plt.ylabel(r'$q$')\n",
    "\n",
    "plt.legend(), plt.show()"
   ]
  },
  {
   "cell_type": "code",
   "execution_count": null,
   "metadata": {},
   "outputs": [],
   "source": []
  },
  {
   "cell_type": "markdown",
   "metadata": {},
   "source": [
    "# <center> Part B <center>"
   ]
  },
  {
   "cell_type": "markdown",
   "metadata": {},
   "source": [
    "<center> <img src=\"Ex1b.png\"> <center>\n"
   ]
  },
  {
   "cell_type": "markdown",
   "metadata": {},
   "source": [
    "To find the natural frequency\n",
    "$$\n",
    "\\omega=n^2\\pi^2\\sqrt{\\frac{IE}{mL^4}}\n",
    "$$\n",
    "Where I is the moment area and L is the length of the beam"
   ]
  },
  {
   "cell_type": "markdown",
   "metadata": {},
   "source": [
    "I could find I for each material, but since it's going to be the same value I'll ignore it. As well as $L^4$. Also ignoring the initial constant since they'll be the same for every material we're left with $\\frac{E}{m}$ as the discriminating factor."
   ]
  },
  {
   "cell_type": "markdown",
   "metadata": {},
   "source": [
    "$m$  is just the density times the area, area is the same for all the materials so I'll only care about $\\rho$."
   ]
  },
  {
   "cell_type": "markdown",
   "metadata": {},
   "source": [
    "So what's the greatest ration $\\frac{E}{\\rho}$?"
   ]
  },
  {
   "cell_type": "code",
   "execution_count": 9,
   "metadata": {},
   "outputs": [
    {
     "data": {
      "text/plain": [
       "[25000000.0, 25925925.925925925, 132258064.51612903, 1666666.6666666667]"
      ]
     },
     "metadata": {},
     "output_type": "display_data"
    },
    {
     "data": {
      "text/plain": [
       "132258064.51612903"
      ]
     },
     "metadata": {},
     "output_type": "display_data"
    },
    {
     "data": {
      "text/plain": [
       "'Silicon'"
      ]
     },
     "metadata": {},
     "output_type": "display_data"
    }
   ],
   "source": [
    "material = ['Steel', 'Aluminum', 'Silicon', 'Polycarbonate']\n",
    "density = [8000, 2700, 3100, 1200]\n",
    "Young_mod = [200e9, 70e9, 410e9, 2e9]\n",
    "Yield_str = [215e6, 276e6, 550e6, 65e6]\n",
    "\n",
    "ratio = [Young_mod[i]/density[i] for i in range(4)]\n",
    "display(ratio)\n",
    "display(max(ratio))\n",
    "display(material[ratio.index(max(ratio))])"
   ]
  },
  {
   "cell_type": "markdown",
   "metadata": {},
   "source": [
    "So the best material is Silicon. Obviously the greatest frequency will be the greatest frequency. We can say this because the frequency will be the furthest from $10Hz$. To make sure of this we have to prove that the frequency calculated is greater than $10Hz$, so that a frequency of 0.000...1 isn't the best. The lowest boundary for our frequency is\n",
    "$$\n",
    "\\sqrt{\\frac{E}{mL^4}}\n",
    "$$\n",
    "Since every other element in our formula would just increase our values"
   ]
  },
  {
   "cell_type": "code",
   "execution_count": 10,
   "metadata": {},
   "outputs": [
    {
     "data": {
      "text/plain": [
       "11.500350625790896"
      ]
     },
     "execution_count": 10,
     "metadata": {},
     "output_type": "execute_result"
    }
   ],
   "source": [
    "np.sqrt(max(ratio)/(10**6))"
   ]
  }
 ],
 "metadata": {
  "kernelspec": {
   "display_name": "Python 3",
   "language": "python",
   "name": "python3"
  },
  "language_info": {
   "codemirror_mode": {
    "name": "ipython",
    "version": 3
   },
   "file_extension": ".py",
   "mimetype": "text/x-python",
   "name": "python",
   "nbconvert_exporter": "python",
   "pygments_lexer": "ipython3",
   "version": "3.12.2"
  }
 },
 "nbformat": 4,
 "nbformat_minor": 2
}
