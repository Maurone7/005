{
 "cells": [
  {
   "cell_type": "markdown",
   "metadata": {},
   "source": [
    "# <center> Part A <center>"
   ]
  },
  {
   "cell_type": "markdown",
   "metadata": {},
   "source": [
    "<center> <img src=\"Ex2A.png\"> <center>"
   ]
  },
  {
   "cell_type": "markdown",
   "metadata": {},
   "source": [
    "$$\n",
    "\\begin{bmatrix}\n",
    "q_1 \\\\\n",
    "q_2 \\\\\n",
    "q_3\n",
    "\\end{bmatrix}\n",
    "=\n",
    "\\begin{bmatrix}\n",
    "0 \\\\\n",
    "0 \\\\\n",
    "0\n",
    "\\end{bmatrix}\n",
    "\\quad\n",
    "\\begin{bmatrix}\n",
    "\\dot{q_1} \\\\\n",
    "\\dot{q_2} \\\\\n",
    "\\dot{q_3}\n",
    "\\end{bmatrix}\n",
    "=\n",
    "\\begin{bmatrix}\n",
    "0 \\\\\n",
    "0 \\\\\n",
    "0\n",
    "\\end{bmatrix}\n",
    "$$"
   ]
  },
  {
   "cell_type": "markdown",
   "metadata": {},
   "source": [
    "$$\n",
    "4m\\ddot{q_1}=-kq_1-k(q_1-q_2)=k(q_2-2q_1)\n",
    "$$\n",
    "$$\n",
    "3m\\ddot{q_2}=-k(q_2-q_1)-k(q_2-q_3)=k(q_3+q_1-2q_2)\n",
    "$$\n",
    "$$\n",
    "4m\\ddot{q_3}=-k(q_3-q_2)-kq_3=k(q_2-2q_3)\n",
    "$$\n"
   ]
  },
  {
   "cell_type": "markdown",
   "metadata": {},
   "source": [
    "$$\n",
    "\\begin{bmatrix}\n",
    "4m & 0 & 0 \\\\\n",
    "0 & 3m & 0 \\\\\n",
    "0 & 0 & 4m\n",
    "\\end{bmatrix}\n",
    "\\begin{bmatrix}\n",
    "\\ddot{q_1} \\\\\n",
    "\\ddot{q_2} \\\\\n",
    "\\ddot{q_3}\n",
    "\\end{bmatrix}\n",
    "=\n",
    "\\begin{bmatrix}\n",
    "-2 & 1 & 0 \\\\\n",
    "1 & -2 & 1 \\\\\n",
    "0 & -1 & -2\n",
    "\\end{bmatrix}\n",
    "\\begin{bmatrix}\n",
    "q_1 \\\\\n",
    "q_2 \\\\\n",
    "q_3\n",
    "\\end{bmatrix}\n",
    "k\n",
    "\n",
    "$$"
   ]
  },
  {
   "cell_type": "markdown",
   "metadata": {},
   "source": [
    "$$ \\text{Implement } q=Ae^{i\\omega t} $$"
   ]
  },
  {
   "cell_type": "markdown",
   "metadata": {},
   "source": [
    "$$\n",
    "\\begin{bmatrix}\n",
    "4m & 0 & 0 \\\\\n",
    "0 & 3m & 0 \\\\\n",
    "0 & 0 & 4m\n",
    "\\end{bmatrix}\n",
    "\\begin{bmatrix}\n",
    "-A_1 \\\\\n",
    "-A_2 \\\\\n",
    "-A_3\n",
    "\\end{bmatrix}\n",
    "\\omega^2\n",
    "-\n",
    "\\begin{bmatrix}\n",
    "-2 & 1 & 0 \\\\\n",
    "1 & -2 & 1 \\\\\n",
    "0 & -1 & -2\n",
    "\\end{bmatrix}\n",
    "\\begin{bmatrix}\n",
    "A_1 \\\\\n",
    "A_2 \\\\\n",
    "A_3\n",
    "\\end{bmatrix}=0\n",
    "$$"
   ]
  },
  {
   "cell_type": "markdown",
   "metadata": {},
   "source": [
    "$$\n",
    "\\begin{bmatrix}\n",
    "4m\\omega^2-2k & 1k & 0 \\\\\n",
    "1k & 3m\\omega^2-2k & 1k \\\\\n",
    "0 & -k & 4m\\omega^2-2k\n",
    "\\end{bmatrix}=0\n",
    "$$"
   ]
  },
  {
   "cell_type": "code",
   "execution_count": 2,
   "metadata": {},
   "outputs": [
    {
     "data": {
      "text/latex": [
       "$\\displaystyle \\left[\\begin{matrix}- 2 k + 4 m \\omega^{2} & k & 0\\\\k & - 2 k + 3 m \\omega^{2} & k\\\\0 & k & - 2 k + 4 m \\omega^{2}\\end{matrix}\\right]$"
      ],
      "text/plain": [
       "Matrix([\n",
       "[-2*k + 4*m*omega**2,                   k,                   0],\n",
       "[                  k, -2*k + 3*m*omega**2,                   k],\n",
       "[                  0,                   k, -2*k + 4*m*omega**2]])"
      ]
     },
     "metadata": {},
     "output_type": "display_data"
    },
    {
     "data": {
      "text/latex": [
       "$\\displaystyle - 4 k^{3} + 36 k^{2} m \\omega^{2} - 80 k m^{2} \\omega^{4} + 48 m^{3} \\omega^{6}$"
      ],
      "text/plain": [
       "-4*k**3 + 36*k**2*m*omega**2 - 80*k*m**2*omega**4 + 48*m**3*omega**6"
      ]
     },
     "metadata": {},
     "output_type": "display_data"
    },
    {
     "data": {
      "text/latex": [
       "$\\displaystyle \\left\\{ - 2 k + 4 m \\omega^{2} : 1, \\  - 2 k + \\frac{7 m \\omega^{2}}{2} - \\frac{\\sqrt{8 k^{2} + m^{2} \\omega^{4}}}{2} : 1, \\  - 2 k + \\frac{7 m \\omega^{2}}{2} + \\frac{\\sqrt{8 k^{2} + m^{2} \\omega^{4}}}{2} : 1\\right\\}$"
      ],
      "text/plain": [
       "{-2*k + 4*m*omega**2: 1, -2*k + 7*m*omega**2/2 - sqrt(8*k**2 + m**2*omega**4)/2: 1, -2*k + 7*m*omega**2/2 + sqrt(8*k**2 + m**2*omega**4)/2: 1}"
      ]
     },
     "metadata": {},
     "output_type": "display_data"
    },
    {
     "data": {
      "text/latex": [
       "$\\displaystyle \\left[\\begin{matrix}\\frac{k}{6 m}\\\\\\frac{k}{2 m}\\\\\\frac{k}{m}\\end{matrix}\\right]$"
      ],
      "text/plain": [
       "Matrix([\n",
       "[k/(6*m)],\n",
       "[k/(2*m)],\n",
       "[    k/m]])"
      ]
     },
     "metadata": {},
     "output_type": "display_data"
    }
   ],
   "source": [
    "import numpy as np\n",
    "import sympy as sp\n",
    "\n",
    "omega, k, m = sp.symbols('omega k m')\n",
    "M_matrix = sp.Matrix([[4*m, 0, 0],\n",
    "                    [0, 3*m, 0],\n",
    "                    [0, 0, 4*m]])\n",
    "\n",
    "M_omega_matrix = omega**2 * M_matrix\n",
    "K_matrix = sp.Matrix([[2*k, -k, 0],\n",
    "                    [-k, 2*k, -k],\n",
    "                    [0, -k, 2*k]])\n",
    "\n",
    "matrix = M_omega_matrix - K_matrix\n",
    "display(matrix)\n",
    "display(matrix.det())\n",
    "display(sp.simplify(matrix.eigenvals()))\n",
    "solutions = sp.solve(matrix.det(), omega**2)\n",
    "display(sp.Matrix(solutions))\n"
   ]
  },
  {
   "cell_type": "markdown",
   "metadata": {},
   "source": [
    "# <center> Part B <center>"
   ]
  },
  {
   "cell_type": "code",
   "execution_count": 3,
   "metadata": {},
   "outputs": [
    {
     "name": "stdout",
     "output_type": "stream",
     "text": [
      "omega^2=\n"
     ]
    },
    {
     "data": {
      "text/latex": [
       "$\\displaystyle \\frac{k}{6 m}$"
      ],
      "text/plain": [
       "k/(6*m)"
      ]
     },
     "metadata": {},
     "output_type": "display_data"
    },
    {
     "data": {
      "text/plain": [
       "[1, 4/3, 1]"
      ]
     },
     "metadata": {},
     "output_type": "display_data"
    },
    {
     "name": "stdout",
     "output_type": "stream",
     "text": [
      "omega^2=\n"
     ]
    },
    {
     "data": {
      "text/latex": [
       "$\\displaystyle \\frac{k}{2 m}$"
      ],
      "text/plain": [
       "k/(2*m)"
      ]
     },
     "metadata": {},
     "output_type": "display_data"
    },
    {
     "data": {
      "text/plain": [
       "[-1, 0, 1]"
      ]
     },
     "metadata": {},
     "output_type": "display_data"
    },
    {
     "name": "stdout",
     "output_type": "stream",
     "text": [
      "omega^2=\n"
     ]
    },
    {
     "data": {
      "text/latex": [
       "$\\displaystyle \\frac{k}{m}$"
      ],
      "text/plain": [
       "k/m"
      ]
     },
     "metadata": {},
     "output_type": "display_data"
    },
    {
     "data": {
      "text/plain": [
       "[1, -2, 1]"
      ]
     },
     "metadata": {},
     "output_type": "display_data"
    },
    {
     "data": {
      "text/plain": [
       "'As:'"
      ]
     },
     "metadata": {},
     "output_type": "display_data"
    },
    {
     "data": {
      "text/latex": [
       "$\\displaystyle \\left[\\begin{matrix}1 & -1 & 1\\\\\\frac{4}{3} & 0 & -2\\\\1 & 1 & 1\\end{matrix}\\right]$"
      ],
      "text/plain": [
       "Matrix([\n",
       "[  1, -1,  1],\n",
       "[4/3,  0, -2],\n",
       "[  1,  1,  1]])"
      ]
     },
     "metadata": {},
     "output_type": "display_data"
    }
   ],
   "source": [
    "A_1, A_2, A_3 = sp.symbols('A_1 A_2 A_3')\n",
    "As = []\n",
    "\n",
    "for omegas in solutions:\n",
    "    temp_matrix = matrix.subs(omega**2, omegas)\n",
    "    A = sp.Matrix([[A_1], \n",
    "                  [A_2],\n",
    "                  [A_3]])\n",
    "\n",
    "    A1, A2 = sp.solve(temp_matrix*A, A).values()\n",
    "    A1 = A1.subs(A_3, 1)\n",
    "    A2 = A2.subs(A_3, 1)\n",
    "    Ass = [A1, A2, 1]\n",
    "    print('omega^2=')\n",
    "    display(omegas)\n",
    "    display(Ass)\n",
    "    As.append(Ass)\n",
    "\n",
    "As = sp.Matrix(As).T\n",
    "display('As:', As)"
   ]
  },
  {
   "cell_type": "code",
   "execution_count": 4,
   "metadata": {},
   "outputs": [
    {
     "data": {
      "text/latex": [
       "$\\displaystyle \\left[\\begin{matrix}C_{1} & - C_{1} & C_{1}\\\\\\frac{4 C_{2}}{3} & 0 & - 2 C_{2}\\\\C_{3} & C_{3} & C_{3}\\end{matrix}\\right]$"
      ],
      "text/plain": [
       "Matrix([\n",
       "[    C_1, -C_1,    C_1],\n",
       "[4*C_2/3,    0, -2*C_2],\n",
       "[    C_3,  C_3,    C_3]])"
      ]
     },
     "metadata": {},
     "output_type": "display_data"
    },
    {
     "data": {
      "text/latex": [
       "$\\displaystyle \\left[\\begin{matrix}\\frac{C_{1} k \\cos{\\left(\\frac{k t}{6 m} \\right)}}{6 m} - \\frac{C_{1} k \\cos{\\left(\\frac{k t}{2 m} \\right)}}{2 m} + \\frac{C_{1} k \\cos{\\left(\\frac{k t}{m} \\right)}}{m}\\\\\\frac{2 C_{2} k \\cos{\\left(\\frac{k t}{6 m} \\right)}}{9 m} - \\frac{2 C_{2} k \\cos{\\left(\\frac{k t}{m} \\right)}}{m}\\\\\\frac{C_{3} k \\cos{\\left(\\frac{k t}{6 m} \\right)}}{6 m} + \\frac{C_{3} k \\cos{\\left(\\frac{k t}{2 m} \\right)}}{2 m} + \\frac{C_{3} k \\cos{\\left(\\frac{k t}{m} \\right)}}{m}\\end{matrix}\\right]$"
      ],
      "text/plain": [
       "Matrix([\n",
       "[C_1*k*cos(k*t/(6*m))/(6*m) - C_1*k*cos(k*t/(2*m))/(2*m) + C_1*k*cos(k*t/m)/m],\n",
       "[                         2*C_2*k*cos(k*t/(6*m))/(9*m) - 2*C_2*k*cos(k*t/m)/m],\n",
       "[C_3*k*cos(k*t/(6*m))/(6*m) + C_3*k*cos(k*t/(2*m))/(2*m) + C_3*k*cos(k*t/m)/m]])"
      ]
     },
     "metadata": {},
     "output_type": "display_data"
    },
    {
     "data": {
      "text/latex": [
       "$\\displaystyle \\left[\\begin{matrix}0\\\\1\\\\1\\end{matrix}\\right]$"
      ],
      "text/plain": [
       "Matrix([\n",
       "[0],\n",
       "[1],\n",
       "[1]])"
      ]
     },
     "metadata": {},
     "output_type": "display_data"
    }
   ],
   "source": [
    "q_1, q_2, q_3 = sp.symbols('q_1 q_2 q_3')\n",
    "C_1, C_2, C_3 = sp.symbols('C_1, C_2, C_3')\n",
    "t = sp.symbols('t')\n",
    "\n",
    "\n",
    "\n",
    "Cs = sp.Matrix.vstack(As[0, :]*C_1, As[1, :]*C_2, As[2, :]*C_3)\n",
    "display(Cs)\n",
    "sins = sp.Matrix([[sp.sin(solutions[0]*t)],\n",
    "                [sp.sin(solutions[1]*t)],\n",
    "                [sp.sin(solutions[2]*t)]])\n",
    "\n",
    "qs = Cs*sins\n",
    "qs_dot = sp.diff(qs, t)\n",
    "display(qs_dot)\n",
    "ic_q_dot = sp.Matrix([[0],\n",
    "                    [1],\n",
    "                    [1]])\n",
    "\n",
    "\n",
    "display(ic_q_dot)"
   ]
  },
  {
   "cell_type": "markdown",
   "metadata": {},
   "source": [
    "# <center> Part C <center>"
   ]
  },
  {
   "cell_type": "code",
   "execution_count": 7,
   "metadata": {},
   "outputs": [
    {
     "data": {
      "text/latex": [
       "$\\displaystyle \\left[\\begin{matrix}\\frac{\\sqrt{30} \\sqrt{\\frac{1}{m}}}{20} & - \\frac{\\sqrt{2} \\sqrt{\\frac{1}{m}}}{4} & \\frac{\\sqrt{5} \\sqrt{\\frac{1}{m}}}{10}\\\\\\frac{\\sqrt{30} \\sqrt{\\frac{1}{m}}}{15} & 0 & - \\frac{\\sqrt{5} \\sqrt{\\frac{1}{m}}}{5}\\\\\\frac{\\sqrt{30} \\sqrt{\\frac{1}{m}}}{20} & \\frac{\\sqrt{2} \\sqrt{\\frac{1}{m}}}{4} & \\frac{\\sqrt{5} \\sqrt{\\frac{1}{m}}}{10}\\end{matrix}\\right]$"
      ],
      "text/plain": [
       "Matrix([\n",
       "[sqrt(30)*sqrt(1/m)/20, -sqrt(2)*sqrt(1/m)/4, sqrt(5)*sqrt(1/m)/10],\n",
       "[sqrt(30)*sqrt(1/m)/15,                    0, -sqrt(5)*sqrt(1/m)/5],\n",
       "[sqrt(30)*sqrt(1/m)/20,  sqrt(2)*sqrt(1/m)/4, sqrt(5)*sqrt(1/m)/10]])"
      ]
     },
     "metadata": {},
     "output_type": "display_data"
    }
   ],
   "source": [
    "a = sp.symbols('a_1')\n",
    "phi_list = []\n",
    "for i in range(len(As[:, 0])):\n",
    "    phi = a * As[:,i]\n",
    "    modal_matrix = phi.T * M_matrix * phi\n",
    "    a_value = modal_matrix/a**2\n",
    "    a_value = sp.sqrt(1/a_value[0])\n",
    "    display()\n",
    "    phi_list.append(phi.subs(a, a_value))\n",
    "\n",
    "phi_list = sp.Matrix(phi_list).reshape(3, 3).T\n",
    "display(phi_list)"
   ]
  },
  {
   "cell_type": "markdown",
   "metadata": {},
   "source": [
    "# <center> Part D <center>"
   ]
  },
  {
   "cell_type": "markdown",
   "metadata": {},
   "source": [
    "$$\n",
    "n_1 = A_1sin \\omega_1t+A_2cos\\omega_1t\n",
    "$$\n",
    "$$\n",
    "n_2 = B_1sin \\omega_2t+B_2cos\\omega_2t\n",
    "$$\n",
    "$$\n",
    "n_3 = C_1sin\\omega_3t+C_2cos\\omega_3t\n",
    "$$"
   ]
  },
  {
   "cell_type": "markdown",
   "metadata": {},
   "source": [
    "Apply initial conditions to this and \n",
    "$$\n",
    "\\rightarrow A_2=0, B_2=0 \\text{ and } C_2=0\n",
    "$$"
   ]
  },
  {
   "cell_type": "markdown",
   "metadata": {},
   "source": [
    "$$\n",
    "\\dot{n}_1 = A_1\\omega_1cos\\omega_1t\n",
    "$$\n",
    "$$\n",
    "\\dot{n}_2 = B_1\\omega_2cos\\omega_2t\n",
    "$$\n",
    "$$\n",
    "\\dot{n}_3 = C_1\\omega_3cos\\omega_3t\n",
    "$$"
   ]
  },
  {
   "cell_type": "markdown",
   "metadata": {},
   "source": [
    "Apply initial conditions to this and \n",
    "$$\n",
    "\\rightarrow A_1=0, B_1=\\frac{1}{\\omega_2}, C_1=\\frac{1}{\\omega_3}\n",
    "$$"
   ]
  },
  {
   "cell_type": "markdown",
   "metadata": {},
   "source": []
  }
 ],
 "metadata": {
  "kernelspec": {
   "display_name": "Python 3",
   "language": "python",
   "name": "python3"
  },
  "language_info": {
   "codemirror_mode": {
    "name": "ipython",
    "version": 3
   },
   "file_extension": ".py",
   "mimetype": "text/x-python",
   "name": "python",
   "nbconvert_exporter": "python",
   "pygments_lexer": "ipython3",
   "version": "3.12.2"
  }
 },
 "nbformat": 4,
 "nbformat_minor": 2
}
