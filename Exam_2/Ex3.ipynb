{
 "cells": [
  {
   "cell_type": "markdown",
   "metadata": {},
   "source": [
    "# <center> A <center>"
   ]
  },
  {
   "cell_type": "code",
   "execution_count": 1,
   "metadata": {},
   "outputs": [],
   "source": [
    "import matplotlib.pyplot as plt\n",
    "import sympy as sym\n",
    "import numpy as np\n",
    "import warnings\n",
    "warnings.filterwarnings(\"ignore\", category=DeprecationWarning)\n",
    "\n",
    "theta = sym.symbols('theta')\n",
    "\n",
    "# Material properties\n",
    "E_L = 400 #GPa\n",
    "E_L = 400e9 #Pa\n",
    "E_T = 50 #GPa\n",
    "E_T = 50e9 #Pa\n",
    "nu_LT = 0.1\n",
    "# nu_TL = E_T/E_L*nu_LT\n",
    "nu_TL = E_T/E_L*nu_LT\n",
    "G_LT = 40 #GPa\n",
    "G_LT = 40e9 #Pa\n",
    "t = 0.1 #mm\n",
    "t = 0.1e-3 #m\n",
    "angle_list = [0, theta, -theta]\n",
    "repetitions = 1\n",
    "symmetry = True\n",
    "N_x = 0 # [N/m]\n",
    "N_y = 0 # [N/m]\n",
    "N_xy = 10_000 # [N/m]\n",
    "M_x = 0 # [Nm/m]\n",
    "M_y = 0 # [Nm/m]\n",
    "M_xy = 10 # [Nm/m]\n"
   ]
  },
  {
   "cell_type": "code",
   "execution_count": 2,
   "metadata": {},
   "outputs": [
    {
     "data": {
      "text/latex": [
       "$\\displaystyle \\left[\\begin{matrix}112220275.34418 \\sin^{4}{\\left(\\theta \\right)} - 252395494.36796 \\sin^{2}{\\left(\\theta \\right)} + 240300375.469337 & - 112220275.34418 \\sin^{4}{\\left(\\theta \\right)} + 112220275.34418 \\sin^{2}{\\left(\\theta \\right)} + 3003754.69336671 & 0\\\\- 112220275.34418 \\sin^{4}{\\left(\\theta \\right)} + 112220275.34418 \\sin^{2}{\\left(\\theta \\right)} + 3003754.69336671 & 112220275.34418 \\sin^{4}{\\left(\\theta \\right)} + 27954943.6795995 \\sin^{2}{\\left(\\theta \\right)} + 30037546.9336671 & 0\\\\0 & 0 & - 112220275.34418 \\sin^{4}{\\left(\\theta \\right)} + 112220275.34418 \\sin^{2}{\\left(\\theta \\right)} + 24000000.0\\end{matrix}\\right]$"
      ],
      "text/plain": [
       "Matrix([\n",
       "[ 112220275.34418*sin(theta)**4 - 252395494.36796*sin(theta)**2 + 240300375.469337, -112220275.34418*sin(theta)**4 + 112220275.34418*sin(theta)**2 + 3003754.69336671,                                                                           0],\n",
       "[-112220275.34418*sin(theta)**4 + 112220275.34418*sin(theta)**2 + 3003754.69336671, 112220275.34418*sin(theta)**4 + 27954943.6795995*sin(theta)**2 + 30037546.9336671,                                                                           0],\n",
       "[                                                                                0,                                                                                 0, -112220275.34418*sin(theta)**4 + 112220275.34418*sin(theta)**2 + 24000000.0]])"
      ]
     },
     "metadata": {},
     "output_type": "display_data"
    }
   ],
   "source": [
    "# Q matrix\n",
    "Q = sym.Matrix([[E_L/(1-nu_LT*nu_TL), E_L*nu_TL/(1-nu_LT*nu_TL), 0],\n",
    "     [E_L*nu_TL/(1-nu_LT*nu_TL), E_T/(1-nu_LT*nu_TL), 0],\n",
    "     [0, 0, G_LT]])\n",
    "\n",
    "T_sigma = sym.Matrix([[sym.cos(theta)**2, sym.sin(theta)**2, 2*sym.cos(theta)*sym.sin(theta)],\n",
    "                   [sym.sin(theta)**2, sym.cos(theta)**2, -2*sym.cos(theta)*sym.sin(theta)],\n",
    "                   [-sym.cos(theta)*sym.sin(theta), sym.cos(theta)*sym.sin(theta), sym.cos(theta)**2-sym.sin(theta)**2]])\n",
    "T_epsilon = sym.Matrix([[sym.cos(theta)**2, sym.sin(theta)**2, sym.cos(theta)*sym.sin(theta)],\n",
    "                     [sym.sin(theta)**2, sym.cos(theta)**2, -sym.cos(theta)*sym.sin(theta)],\n",
    "                     [-2*sym.cos(theta)*sym.sin(theta), 2*sym.cos(theta)*sym.sin(theta), sym.cos(theta)**2-sym.sin(theta)**2]])\n",
    "\n",
    "Q_list = []\n",
    "def Q_bar():\n",
    "    Q_bar = sym.Matrix((T_sigma.inv()) * Q * T_epsilon)\n",
    "    for angle in angle_list:\n",
    "        Q_list.append(sym.nsimplify(Q_bar.subs(theta, angle)))\n",
    "    return Q_list\n",
    "\n",
    "Q_list = Q_bar()\n",
    "A = sym.Matrix.zeros(3,3)\n",
    "for i in range(len(Q_list)):\n",
    "    A += 2*t*Q_list[i]\n",
    "\n",
    "display(sym.simplify(A))\n",
    "A_inv = A.inv()"
   ]
  },
  {
   "cell_type": "markdown",
   "metadata": {},
   "source": [
    "### The above matrix is matrix A"
   ]
  },
  {
   "cell_type": "markdown",
   "metadata": {},
   "source": [
    "The third row and the third column are zero, apart from the element in both the third row and third column (--> A is an isotropic matrix). This means that there is no bending-twisting coupling. This is as expected since we have an quasi-isotropic laminate."
   ]
  },
  {
   "cell_type": "code",
   "execution_count": 3,
   "metadata": {},
   "outputs": [
    {
     "data": {
      "text/latex": [
       "$\\displaystyle \\left[\\begin{matrix}0 & 0 & 0\\\\0 & 0 & 0\\\\0 & 0 & 0\\end{matrix}\\right]$"
      ],
      "text/plain": [
       "Matrix([\n",
       "[0, 0, 0],\n",
       "[0, 0, 0],\n",
       "[0, 0, 0]])"
      ]
     },
     "metadata": {},
     "output_type": "display_data"
    },
    {
     "data": {
      "text/latex": [
       "$\\displaystyle \\left[\\begin{matrix}1496.2703379224 \\sin^{4}{\\left(\\theta \\right)} - 3365.27325823947 \\sin^{2}{\\left(\\theta \\right)} + 7209.0112640801 & - 1496.2703379224 \\sin^{4}{\\left(\\theta \\right)} + 1496.2703379224 \\sin^{2}{\\left(\\theta \\right)} + 90.1126408010013 & 350.43804755945 \\sin{\\left(2 \\theta \\right)} + 140.275344180225 \\sin{\\left(4 \\theta \\right)}\\\\- 1496.2703379224 \\sin^{4}{\\left(\\theta \\right)} + 1496.2703379224 \\sin^{2}{\\left(\\theta \\right)} + 90.1126408010013 & 1496.27033792241 \\sin^{4}{\\left(\\theta \\right)} + 372.732582394659 \\sin^{2}{\\left(\\theta \\right)} + 901.126408010012 & 350.43804755945 \\sin{\\left(2 \\theta \\right)} - 140.275344180225 \\sin{\\left(4 \\theta \\right)}\\\\350.438047559449 \\sin{\\left(2 \\theta \\right)} + 140.275344180225 \\sin{\\left(4 \\theta \\right)} & 350.43804755945 \\sin{\\left(2 \\theta \\right)} - 140.275344180225 \\sin{\\left(4 \\theta \\right)} & - 1496.27033792241 \\sin^{4}{\\left(\\theta \\right)} + 1496.27033792241 \\sin^{2}{\\left(\\theta \\right)} + 720.0\\end{matrix}\\right]$"
      ],
      "text/plain": [
       "Matrix([\n",
       "[ 1496.2703379224*sin(theta)**4 - 3365.27325823947*sin(theta)**2 + 7209.0112640801,  -1496.2703379224*sin(theta)**4 + 1496.2703379224*sin(theta)**2 + 90.1126408010013,             350.43804755945*sin(2*theta) + 140.275344180225*sin(4*theta)],\n",
       "[-1496.2703379224*sin(theta)**4 + 1496.2703379224*sin(theta)**2 + 90.1126408010013, 1496.27033792241*sin(theta)**4 + 372.732582394659*sin(theta)**2 + 901.126408010012,             350.43804755945*sin(2*theta) - 140.275344180225*sin(4*theta)],\n",
       "[                    350.438047559449*sin(2*theta) + 140.275344180225*sin(4*theta),                       350.43804755945*sin(2*theta) - 140.275344180225*sin(4*theta), -1496.27033792241*sin(theta)**4 + 1496.27033792241*sin(theta)**2 + 720.0]])"
      ]
     },
     "metadata": {},
     "output_type": "display_data"
    }
   ],
   "source": [
    "def BD_func(symmetric=False, repetitions=1, t=1):\n",
    "    D = sym.Matrix.zeros(3,3)\n",
    "    B = 0\n",
    "    m=0\n",
    "    if not symmetric:\n",
    "        for i in np.arange(repetitions/2 * len(angle_list), -repetitions/2 * len(angle_list), -1):\n",
    "            B += ((t*i)**2-(t*(i-1))**2)/2 * Q_list[m]\n",
    "            D += ((t*i)**3-(t*(i-1))**3)/3 * Q_list[m]\n",
    "            m += 1\n",
    "            if m == len(angle_list):\n",
    "                m = 0\n",
    "        \n",
    "    if symmetric:\n",
    "        B = sym.Matrix.zeros(3,3)\n",
    "        repetitions = repetitions*2\n",
    "        for i in np.arange(len(angle_list), 0, -1):\n",
    "            D += ((t*i)**3-(t*(i-1))**3)/3 * Q_list[m]\n",
    "            m += 1\n",
    "            if m == len(angle_list):\n",
    "                m = 0\n",
    "\n",
    "        if m == 0:\n",
    "                m = len(angle_list)-1\n",
    "                \n",
    "        for i in np.arange(0, -len(angle_list), -1):\n",
    "            D += ((t*i)**3-(t*(i-1))**3)/3 * Q_list[m]\n",
    "            m -= 1\n",
    "            if m == -len(angle_list):\n",
    "                m = 0\n",
    "                \n",
    "    return B, D\n",
    "\n",
    "B, D = BD_func(symmetric=True, repetitions=1, t=1)\n",
    "display(sym.nsimplify(B)/1e9)\n",
    "display(sym.simplify(D)/1e9)"
   ]
  },
  {
   "cell_type": "markdown",
   "metadata": {},
   "source": [
    "### Above we have the B and D matrices respectively"
   ]
  },
  {
   "cell_type": "markdown",
   "metadata": {},
   "source": [
    "Non-composite material (monolithic) bend and twist under aerodynamic loads. Composite materials bend, but do not twist. This is noticeable because the order of magnitude of the third row and column is much smaller than the order of magnitude of the diagonal. And at $\\theta=0$ the third row and column (apart form $D_{66}$) are $0$. This wouldn't happen if it was a monolithic isotropic plate."
   ]
  },
  {
   "cell_type": "markdown",
   "metadata": {},
   "source": [
    "In addition to the slides I used the following resources:"
   ]
  },
  {
   "cell_type": "markdown",
   "metadata": {},
   "source": [
    "https://www.sciencedirect.com/topics/engineering/quasi-isotropic-laminate"
   ]
  },
  {
   "cell_type": "code",
   "execution_count": 4,
   "metadata": {},
   "outputs": [],
   "source": [
    "import matplotlib.pyplot as plt\n",
    "import sympy as sym\n",
    "import numpy as np\n",
    "import warnings\n",
    "warnings.filterwarnings(\"ignore\", category=DeprecationWarning)\n",
    "\n",
    "theta = sym.symbols('theta')\n",
    "\n",
    "# Material properties\n",
    "E_L = 400 #GPa\n",
    "E_L = 400e9 #Pa\n",
    "E_T = 50 #GPa\n",
    "E_T = 50e9 #Pa\n",
    "nu_LT = 0.1\n",
    "# nu_TL = E_T/E_L*nu_LT\n",
    "nu_TL = E_T/E_L*nu_LT\n",
    "G_LT = 40 #GPa\n",
    "G_LT = 40e9 #Pa\n",
    "t = 0.1 #mm\n",
    "t = 0.1e-3 #m\n",
    "angle_list = [0, theta, -theta]\n",
    "repetitions = 1\n",
    "symmetry = True\n",
    "N_x = 0 # [N/m]\n",
    "N_y = 0 # [N/m]\n",
    "N_xy = 10_000 # [N/m]\n",
    "M_x = 0 # [Nm/m]\n",
    "M_y = 0 # [Nm/m]\n",
    "M_xy = 10 # [Nm/m]\n",
    "\n",
    "X_t = 700e6\n",
    "X_c = -800e6\n",
    "Y_t = 150e6\n",
    "Y_c = -300e6\n",
    "S = 150e6\n",
    "\n",
    "angle_list = [0, theta, -theta]\n",
    "\n",
    "Q = sym.Matrix([[E_L/(1-nu_LT*nu_TL), E_L*nu_TL/(1-nu_LT*nu_TL), 0],\n",
    "        [E_L*nu_TL/(1-nu_LT*nu_TL), E_T/(1-nu_LT*nu_TL), 0],\n",
    "        [0, 0, G_LT]])\n",
    "\n",
    "T_sigma = sym.Matrix([[sym.cos(theta)**2, sym.sin(theta)**2, 2*sym.cos(theta)*sym.sin(theta)],\n",
    "                    [sym.sin(theta)**2, sym.cos(theta)**2, -2*sym.cos(theta)*sym.sin(theta)],\n",
    "                    [-sym.cos(theta)*sym.sin(theta), sym.cos(theta)*sym.sin(theta), sym.cos(theta)**2-sym.sin(theta)**2]])\n",
    "\n",
    "T_epsilon = sym.Matrix([[sym.cos(theta)**2, sym.sin(theta)**2, sym.cos(theta)*sym.sin(theta)],\n",
    "                    [sym.sin(theta)**2, sym.cos(theta)**2, -sym.cos(theta)*sym.sin(theta)],\n",
    "                    [-2*sym.cos(theta)*sym.sin(theta), 2*sym.cos(theta)*sym.sin(theta), sym.cos(theta)**2-sym.sin(theta)**2]])\n",
    "\n",
    "Q_list = []\n",
    "def Q_bar(angle):\n",
    "    Q_bar = ((T_sigma.inv()) * Q * T_epsilon).subs(theta, angle)\n",
    "    return Q_bar\n",
    "\n",
    "for angle in angle_list:\n",
    "    Q_list.append(sym.Matrix(Q_bar(angle)))\n",
    "    \n",
    "A = Q_list[0] + Q_list[1] + Q_list[2]\n",
    "A = 2*t*A\n",
    "\n",
    "def BD_func(symmetric=True, repetitions=1, t=1):\n",
    "    D = sym.Matrix.zeros(3,3)\n",
    "    B = sym.Matrix.zeros(3,3)\n",
    "    m=0\n",
    "    if not symmetric:\n",
    "        for i in np.arange(repetitions/2 * len(angle_list), -repetitions/2 * len(angle_list), -1):\n",
    "            B += ((t*i)**2-(t*(i-1))**2)/2 * Q_list[m]\n",
    "            D += ((t*i)**3-(t*(i-1))**3)/3 * Q_list[m]\n",
    "            m += 1\n",
    "            if m == len(angle_list):\n",
    "                m = 0\n",
    "        \n",
    "    if symmetric:\n",
    "        B = np.zeros((3, 3))\n",
    "        repetitions = repetitions*2\n",
    "        for i in np.arange(len(angle_list), 0, -1):\n",
    "            D += ((t*i)**3-(t*(i-1))**3)/3 * Q_list[m]\n",
    "            m += 1\n",
    "            if m == len(angle_list):\n",
    "                m = 0\n",
    "\n",
    "        if m == 0:\n",
    "                m = len(angle_list)-1\n",
    "                \n",
    "        for i in np.arange(0, -len(angle_list), -1):\n",
    "            D += ((t*i)**3-(t*(i-1))**3)/3 * Q_list[m]\n",
    "            m -= 1\n",
    "            if m == -len(angle_list):\n",
    "                m = 0\n",
    "\n",
    "    D = sym.Matrix(sym.simplify(D))\n",
    "    return B, D\n",
    "\n",
    "B, D = BD_func(symmetric=True, repetitions=1, t=t)\n",
    "B = sym.Matrix(sym.simplify(B))\n",
    "D = sym.Matrix(sym.simplify(D))\n",
    "\n",
    "ABBD = sym.Matrix(sym.BlockMatrix([[A, B], [B, D]]))"
   ]
  },
  {
   "cell_type": "code",
   "execution_count": 5,
   "metadata": {},
   "outputs": [],
   "source": [
    "ABBD_inv = ABBD.inv()\n",
    "eps_kappa_matrix = ABBD_inv * sym.Matrix([[N_x], [N_y], [N_xy], [M_x], [M_y], [M_xy]])"
   ]
  },
  {
   "cell_type": "code",
   "execution_count": 6,
   "metadata": {},
   "outputs": [],
   "source": [
    "eps_matrix = sym.Matrix(eps_kappa_matrix[:3])\n",
    "kappa_matrix = sym.Matrix(sym.simplify(sym.Matrix(eps_kappa_matrix[3:])))"
   ]
  },
  {
   "cell_type": "code",
   "execution_count": 7,
   "metadata": {},
   "outputs": [
    {
     "data": {
      "text/latex": [
       "$\\displaystyle \\left[\\begin{matrix}- \\frac{z \\left(- 3.53224291258702 \\cdot 10^{-29} \\sin^{22}{\\left(\\theta \\right)} + 2.01948391736579 \\cdot 10^{-28} \\sin^{20}{\\left(\\theta \\right)} - 1.56299252326068 \\cdot 10^{-13} \\sin^{18}{\\left(\\theta \\right)} + 1.11356345891643 \\cdot 10^{-12} \\sin^{16}{\\left(\\theta \\right)} - 169.810856254415 \\sin^{14}{\\left(\\theta \\right)} + 999.940231815068 \\sin^{12}{\\left(\\theta \\right)} - 3696.40425475439 \\sin^{10}{\\left(\\theta \\right)} + 7938.63681145703 \\sin^{8}{\\left(\\theta \\right)} - 11837.6765517492 \\sin^{6}{\\left(\\theta \\right)} + 10896.0052785055 \\sin^{4}{\\left(\\theta \\right)} - 6769.77362116745 \\sin^{2}{\\left(\\theta \\right)} + 3792.01393154296\\right) \\sin{\\left(\\theta \\right)} \\cos{\\left(\\theta \\right)}}{1.84981660375422 \\cdot 10^{-29} \\sin^{28}{\\left(\\theta \\right)} - 1.10955987363658 \\cdot 10^{-28} \\sin^{26}{\\left(\\theta \\right)} + 9.27997798206986 \\cdot 10^{-14} \\sin^{24}{\\left(\\theta \\right)} - 5.39839225994754 \\cdot 10^{-13} \\sin^{22}{\\left(\\theta \\right)} + 116.38720180818 \\sin^{20}{\\left(\\theta \\right)} - 655.990639163803 \\sin^{18}{\\left(\\theta \\right)} + 2442.288689406 \\sin^{16}{\\left(\\theta \\right)} - 5329.1159741809 \\sin^{14}{\\left(\\theta \\right)} + 8636.47354397763 \\sin^{12}{\\left(\\theta \\right)} - 9540.03731846996 \\sin^{10}{\\left(\\theta \\right)} + 8181.42352408183 \\sin^{8}{\\left(\\theta \\right)} - 5883.00117998384 \\sin^{6}{\\left(\\theta \\right)} + 102.442560404325 \\sin^{4}{\\left(\\theta \\right)} - 983.421752144965 \\sin^{2}{\\left(\\theta \\right)} - 1575.14424848708}\\\\- \\frac{z \\left(1.18034917322882 \\cdot 10^{-28} \\sin^{18}{\\left(\\theta \\right)} - 2.6096585039802 \\cdot 10^{-28} \\sin^{16}{\\left(\\theta \\right)} + 6.0611592207341 \\cdot 10^{-13} \\sin^{14}{\\left(\\theta \\right)} - 1.30087413313447 \\cdot 10^{-12} \\sin^{12}{\\left(\\theta \\right)} + 777.696463803497 \\sin^{10}{\\left(\\theta \\right)} - 1683.61412569892 \\sin^{8}{\\left(\\theta \\right)} + 4157.57955326055 \\sin^{6}{\\left(\\theta \\right)} - 852.565205040729 \\sin^{4}{\\left(\\theta \\right)} + 2493.18369153118 \\sin^{2}{\\left(\\theta \\right)} + 418.110724138122\\right) \\sin{\\left(\\theta \\right)} \\cos{\\left(\\theta \\right)}}{1.23628501940546 \\cdot 10^{-29} \\sin^{24}{\\left(\\theta \\right)} - 4.6349657847446 \\cdot 10^{-29} \\sin^{22}{\\left(\\theta \\right)} + 6.20207307922382 \\cdot 10^{-14} \\sin^{20}{\\left(\\theta \\right)} - 2.21298592113324 \\cdot 10^{-13} \\sin^{18}{\\left(\\theta \\right)} + 77.7848754054595 \\sin^{16}{\\left(\\theta \\right)} - 263.470622971585 \\sin^{14}{\\left(\\theta \\right)} + 664.910597637339 \\sin^{12}{\\left(\\theta \\right)} - 796.746016987073 \\sin^{10}{\\left(\\theta \\right)} + 776.502388626963 \\sin^{8}{\\left(\\theta \\right)} - 790.728489369517 \\sin^{6}{\\left(\\theta \\right)} - 51.7342220563284 \\sin^{4}{\\left(\\theta \\right)} - 238.413058302857 \\sin^{2}{\\left(\\theta \\right)} - 218.496571968954}\\\\- \\frac{z \\left(- 5.31582009672038 \\cdot 10^{-14} \\sin^{12}{\\left(\\theta \\right)} + 1.3284807361629 \\cdot 10^{-13} \\sin^{10}{\\left(\\theta \\right)} - 133.339416875418 \\sin^{8}{\\left(\\theta \\right)} + 309.099310590666 \\sin^{6}{\\left(\\theta \\right)} - 760.209381391528 \\sin^{4}{\\left(\\theta \\right)} + 262.690235134344 \\sin^{2}{\\left(\\theta \\right)} - 467.728590650704\\right)}{3.47983297044885 \\cdot 10^{-15} \\sin^{16}{\\left(\\theta \\right)} - 1.21763106205447 \\cdot 10^{-14} \\sin^{14}{\\left(\\theta \\right)} + 8.7286418776619 \\sin^{12}{\\left(\\theta \\right)} - 28.9628475611841 \\sin^{10}{\\left(\\theta \\right)} + 66.2586911281048 \\sin^{8}{\\left(\\theta \\right)} - 63.7462408159632 \\sin^{6}{\\left(\\theta \\right)} + 34.4942648209037 \\sin^{4}{\\left(\\theta \\right)} - 39.9391756325425 \\sin^{2}{\\left(\\theta \\right)} - 33.6764585268507} + \\frac{10000 \\cdot \\left(1.0 \\sin^{4}{\\left(\\theta \\right)} + 2.0 \\sin^{2}{\\left(\\theta \\right)} \\cos^{2}{\\left(\\theta \\right)} + 1.0 \\cos^{4}{\\left(\\theta \\right)}\\right)}{24000000.0 \\sin^{4}{\\left(\\theta \\right)} + 160220275.34418 \\sin^{2}{\\left(\\theta \\right)} \\cos^{2}{\\left(\\theta \\right)} + 24000000.0 \\cos^{4}{\\left(\\theta \\right)}}\\end{matrix}\\right]$"
      ],
      "text/plain": [
       "Matrix([\n",
       "[-z*(-3.53224291258702e-29*sin(theta)**22 + 2.01948391736579e-28*sin(theta)**20 - 1.56299252326068e-13*sin(theta)**18 + 1.11356345891643e-12*sin(theta)**16 - 169.810856254415*sin(theta)**14 + 999.940231815068*sin(theta)**12 - 3696.40425475439*sin(theta)**10 + 7938.63681145703*sin(theta)**8 - 11837.6765517492*sin(theta)**6 + 10896.0052785055*sin(theta)**4 - 6769.77362116745*sin(theta)**2 + 3792.01393154296)*sin(theta)*cos(theta)/(1.84981660375422e-29*sin(theta)**28 - 1.10955987363658e-28*sin(theta)**26 + 9.27997798206986e-14*sin(theta)**24 - 5.39839225994754e-13*sin(theta)**22 + 116.38720180818*sin(theta)**20 - 655.990639163803*sin(theta)**18 + 2442.288689406*sin(theta)**16 - 5329.1159741809*sin(theta)**14 + 8636.47354397763*sin(theta)**12 - 9540.03731846996*sin(theta)**10 + 8181.42352408183*sin(theta)**8 - 5883.00117998384*sin(theta)**6 + 102.442560404325*sin(theta)**4 - 983.421752144965*sin(theta)**2 - 1575.14424848708)],\n",
       "[                                                                                                                                        -z*(1.18034917322882e-28*sin(theta)**18 - 2.6096585039802e-28*sin(theta)**16 + 6.0611592207341e-13*sin(theta)**14 - 1.30087413313447e-12*sin(theta)**12 + 777.696463803497*sin(theta)**10 - 1683.61412569892*sin(theta)**8 + 4157.57955326055*sin(theta)**6 - 852.565205040729*sin(theta)**4 + 2493.18369153118*sin(theta)**2 + 418.110724138122)*sin(theta)*cos(theta)/(1.23628501940546e-29*sin(theta)**24 - 4.6349657847446e-29*sin(theta)**22 + 6.20207307922382e-14*sin(theta)**20 - 2.21298592113324e-13*sin(theta)**18 + 77.7848754054595*sin(theta)**16 - 263.470622971585*sin(theta)**14 + 664.910597637339*sin(theta)**12 - 796.746016987073*sin(theta)**10 + 776.502388626963*sin(theta)**8 - 790.728489369517*sin(theta)**6 - 51.7342220563284*sin(theta)**4 - 238.413058302857*sin(theta)**2 - 218.496571968954)],\n",
       "[                                                                                                                                                                                                                                    -z*(-5.31582009672038e-14*sin(theta)**12 + 1.3284807361629e-13*sin(theta)**10 - 133.339416875418*sin(theta)**8 + 309.099310590666*sin(theta)**6 - 760.209381391528*sin(theta)**4 + 262.690235134344*sin(theta)**2 - 467.728590650704)/(3.47983297044885e-15*sin(theta)**16 - 1.21763106205447e-14*sin(theta)**14 + 8.7286418776619*sin(theta)**12 - 28.9628475611841*sin(theta)**10 + 66.2586911281048*sin(theta)**8 - 63.7462408159632*sin(theta)**6 + 34.4942648209037*sin(theta)**4 - 39.9391756325425*sin(theta)**2 - 33.6764585268507) + 10000*(1.0*sin(theta)**4 + 2.0*sin(theta)**2*cos(theta)**2 + 1.0*cos(theta)**4)/(24000000.0*sin(theta)**4 + 160220275.34418*sin(theta)**2*cos(theta)**2 + 24000000.0*cos(theta)**4)]])"
      ]
     },
     "metadata": {},
     "output_type": "display_data"
    }
   ],
   "source": [
    "z = sym.symbols('z')\n",
    "eps_naught = eps_matrix - z*kappa_matrix\n",
    "display(eps_naught)"
   ]
  },
  {
   "cell_type": "code",
   "execution_count": 8,
   "metadata": {},
   "outputs": [],
   "source": [
    "sigma_theta = Q * T_epsilon * eps_naught\n",
    "sigma_x, sigma_y, tau_xy = sigma_theta"
   ]
  },
  {
   "cell_type": "code",
   "execution_count": 24,
   "metadata": {},
   "outputs": [
    {
     "data": {
      "image/png": "[encoded data removed]",
      "text/plain": [
       "<Figure size 640x480 with 1 Axes>"
      ]
     },
     "metadata": {},
     "output_type": "display_data"
    },
    {
     "name": "stdout",
     "output_type": "stream",
     "text": [
      "-3t ply fails at the following angles:\n",
      "[ 0  1  2  3  4  5  6  7  8  9 10 11 12 13 14 15 16 17 18 70 71 72 73 74\n",
      " 75 76 77 78 79 80 81 82 83 84 85 86 87 88 89 90]\n",
      "3t ply fails at the following angles:\n",
      "[]\n",
      "-2t ply fails at the following angles:\n",
      "[]\n",
      "2t ply fails at the following angles:\n",
      "[]\n",
      "-t ply fails at the following angles:\n",
      "[]\n",
      "t ply fails at the following angles:\n",
      "[]\n"
     ]
    }
   ],
   "source": [
    "Tsai_hill = sigma_x**2 / X_c**2 - sigma_x*sigma_y / X_c**2 + sigma_y**2 / Y_c**2 + tau_xy**2 / S**2\n",
    "Tsai_hill_func = sym.lambdify([z, theta], Tsai_hill, modules=['numpy'])\n",
    "theta_range = np.linspace(0, np.pi/2, 91)\n",
    "plt.plot(np.degrees(theta_range), Tsai_hill_func(3*t, theta_range), label='3t')\n",
    "plt.plot(np.degrees(theta_range), Tsai_hill_func(2*t, theta_range), label='2t')\n",
    "plt.plot(np.degrees(theta_range), Tsai_hill_func(t, -theta_range), label='t')\n",
    "plt.plot(np.degrees(theta_range), Tsai_hill_func(-t, -theta_range), label='-t')\n",
    "plt.plot(np.degrees(theta_range), Tsai_hill_func(-2*t, theta_range), label='-2t')\n",
    "plt.plot(np.degrees(theta_range), Tsai_hill_func(-3*t, theta_range), label='-3t')\n",
    "plt.legend(), plt.xlim(0, 90)\n",
    "plt.show()\n",
    "print(\"-3t ply fails at the following angles:\")\n",
    "print(np.where(Tsai_hill_func(-3*t, theta_range) >= 1)[0])\n",
    "print(\"3t ply fails at the following angles:\")\n",
    "print(np.where(Tsai_hill_func(3*t, theta_range) >= 1)[0])\n",
    "print(\"-2t ply fails at the following angles:\")\n",
    "print(np.where(Tsai_hill_func(-2*t, theta_range) >= 1)[0])\n",
    "print(\"2t ply fails at the following angles:\")\n",
    "print(np.where(Tsai_hill_func(2*t, theta_range) >= 1)[0])\n",
    "print(\"-t ply fails at the following angles:\")\n",
    "print(np.where(Tsai_hill_func(-t, theta_range) >= 1)[0])\n",
    "print(\"t ply fails at the following angles:\")\n",
    "print(np.where(Tsai_hill_func(t, theta_range) >= 1)[0])"
   ]
  }
 ],
 "metadata": {
  "kernelspec": {
   "display_name": "Python 3",
   "language": "python",
   "name": "python3"
  },
  "language_info": {
   "codemirror_mode": {
    "name": "ipython",
    "version": 3
   },
   "file_extension": ".py",
   "mimetype": "text/x-python",
   "name": "python",
   "nbconvert_exporter": "python",
   "pygments_lexer": "ipython3",
   "version": "3.12.2"
  }
 },
 "nbformat": 4,
 "nbformat_minor": 2
}
