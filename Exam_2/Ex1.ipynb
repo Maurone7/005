{
 "cells": [
  {
   "cell_type": "markdown",
   "metadata": {},
   "source": [
    "# <center> A <center>\n",
    "The strength-to-weight ratio is much higher than other materials.\n",
    "The CFRPs are also very good at returning to their original shape after they've been stressed.\n",
    "CFRPs are also corrosion free, as the oxygen in the air doesn't impact them.\n",
    "They don't expand much with an increase in temperature, making them ideal for high temperature work.\n",
    "One characteristic that is always not always discussed is the quantity of carbon that is found on Earth. It is in fact very abundant on the crust and very abundant on inside of the planet.\n",
    "\n",
    "# <center> B <center>\n",
    "The matrix within fiber-reinforced plastics serves two main structural functions:\n",
    "\n",
    "1. Load transfer: The matrix distributes and transfers the applied load to the reinforcing fibers, ensuring that the load is evenly distributed across the material.\n",
    "\n",
    "2. Stress transfer: The matrix helps to transfer stress between the reinforcing fibers, allowing them to work together and resist deformation under load.\n",
    "\n",
    "# <center> C <center>\n",
    "\n",
    "$E_{LC}=V_fE_{Lf}+V_mE_{Lm}$ \\\n",
    "$G_{LTm}=\\frac{E_{Lm}}{2(1+\\nu_{LTm})}$ \\\n",
    "$G_{LTf}=\\frac{E_{Lf}}{2(1+\\nu_{LTf})} \\rightarrow \\nu_{LTf}=\\frac{E_{Lf}}{2G_{LTf}}-1$ same thing above \\\n",
    "$\\nu_{LTc}=V_f\\nu_{LTf}+V_m\\nu_{LTm}$\\\n",
    "Rewrite subbing in $\\nu$\\\n",
    "$\\frac{E_{LTc}}{2G_{LTc}}-1=V_f(\\frac{E_LTf}{2G_{LTf}})$ \\\n",
    "$\\frac{\\sigma_Lc}{\\epsilon_{Lc}}(\\frac{1}{2G_{LTc}})-1=V_f(\\frac{\\sigma_f}{\\epsilon_{Lf}}\\frac{1}{2G_{LTf}})-V_f+\\frac{\\sigma_m}{\\epsilon_{Lm}}\\frac{1}{2G_{LTm}}-V_m$ \\\n",
    "All sigmas and epsilons are the same \\\n",
    "$\\frac{1}{2G{LTc}}=\\frac{V_f}{2G_{LTf}}+\\frac{V_m}{2G{LTm}}$ \\\n",
    "$G_{LTc}=(\\frac{V_f}{G_{LTf}}+\\frac{V_m}{G{LTm}})^{-1}$"
   ]
  },
  {
   "cell_type": "code",
   "execution_count": null,
   "metadata": {
    "vscode": {
     "languageId": "plaintext"
    }
   },
   "outputs": [],
   "source": []
  },
  {
   "cell_type": "code",
   "execution_count": null,
   "metadata": {
    "vscode": {
     "languageId": "plaintext"
    }
   },
   "outputs": [],
   "source": []
  }
 ],
 "metadata": {
  "language_info": {
   "name": "python"
  }
 },
 "nbformat": 4,
 "nbformat_minor": 2
}
