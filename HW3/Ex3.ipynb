{
 "cells": [
  {
   "cell_type": "code",
   "execution_count": 1,
   "metadata": {},
   "outputs": [],
   "source": [
    "import matplotlib.pyplot as plt\n",
    "import sympy as sym\n",
    "import numpy as np\n",
    "import warnings\n",
    "warnings.filterwarnings(\"ignore\", category=DeprecationWarning)\n",
    "\n",
    "theta = sym.symbols('theta')\n",
    "\n",
    "# Material properties\n",
    "E_L = 200 #GPa\n",
    "E_L = 200e9 #Pa\n",
    "E_T = 40 #GPa\n",
    "E_T = 40e9 #Pa\n",
    "nu_LT = 0.2\n",
    "# nu_TL = E_T/E_L*nu_LT\n",
    "nu_TL = E_T/E_L*nu_LT\n",
    "G_LT = 30 #GPa\n",
    "G_LT = 30e9 #Pa\n",
    "t = 0.1 #mm\n",
    "t = 0.1e-3 #m\n",
    "angle_list = [0, theta, -theta]\n",
    "repetitions = 1\n",
    "symmetry = True\n",
    "N_x = -100_000 # [N/m]\n",
    "N_y = -200_000 # [N/m]\n",
    "N_xy = 0 # [N/m]\n"
   ]
  },
  {
   "cell_type": "code",
   "execution_count": 2,
   "metadata": {},
   "outputs": [
    {
     "data": {
      "text/latex": [
       "$\\displaystyle \\left[\\begin{matrix}201.612903225806 & 8.06451612903226 & 0\\\\8.06451612903226 & 40.3225806451613 & 0\\\\0 & 0 & 30.0\\end{matrix}\\right]$"
      ],
      "text/plain": [
       "Matrix([\n",
       "[201.612903225806, 8.06451612903226,    0],\n",
       "[8.06451612903226, 40.3225806451613,    0],\n",
       "[               0,                0, 30.0]])"
      ]
     },
     "metadata": {},
     "output_type": "display_data"
    }
   ],
   "source": [
    "import sympy as sym\n",
    "# Q matrix\n",
    "Q = sym.Matrix([[E_L/(1-nu_LT*nu_TL), E_L*nu_TL/(1-nu_LT*nu_TL), 0],\n",
    "     [E_L*nu_TL/(1-nu_LT*nu_TL), E_T/(1-nu_LT*nu_TL), 0],\n",
    "     [0, 0, G_LT]])\n",
    "display(Q/1e9)\n",
    "T_sigma = sym.Matrix([[sym.cos(theta)**2, sym.sin(theta)**2, 2*sym.cos(theta)*sym.sin(theta)],\n",
    "                   [sym.sin(theta)**2, sym.cos(theta)**2, -2*sym.cos(theta)*sym.sin(theta)],\n",
    "                   [-sym.cos(theta)*sym.sin(theta), sym.cos(theta)*sym.sin(theta), sym.cos(theta)**2-sym.sin(theta)**2]])\n",
    "T_epsilon = sym.Matrix([[sym.cos(theta)**2, sym.sin(theta)**2, sym.cos(theta)*sym.sin(theta)],\n",
    "                     [sym.sin(theta)**2, sym.cos(theta)**2, -sym.cos(theta)*sym.sin(theta)],\n",
    "                     [-2*sym.cos(theta)*sym.sin(theta), 2*sym.cos(theta)*sym.sin(theta), sym.cos(theta)**2-sym.sin(theta)**2]])\n",
    "\n",
    "Q_list = []\n",
    "def Q_bar():\n",
    "    Q_bar = (T_sigma.inv()) * Q * T_epsilon\n",
    "    for i in angle_list:\n",
    "        Q_list.append(Q_bar.subs(theta, i))\n",
    "    return Q_list\n",
    "\n",
    "Q_list = Q_bar()\n",
    "A = sym.Matrix.zeros(3,3)\n",
    "for i in range(len(Q_list)):\n",
    "    A += 2*t*Q_list[i]\n",
    "\n",
    "A_inv = A.inv()"
   ]
  },
  {
   "cell_type": "code",
   "execution_count": 3,
   "metadata": {},
   "outputs": [
    {
     "data": {
      "text/latex": [
       "$\\displaystyle \\left[\\begin{matrix}- \\frac{200000 \\left(- 273152965660770.0 \\sin^{40}{\\left(\\theta \\right)} - 7.95962539021853 \\cdot 10^{15} \\sin^{38}{\\left(\\theta \\right)} \\cos^{2}{\\left(\\theta \\right)} - 9.80887159209157 \\cdot 10^{16} \\sin^{36}{\\left(\\theta \\right)} \\cos^{4}{\\left(\\theta \\right)} - 7.16747238293445 \\cdot 10^{17} \\sin^{34}{\\left(\\theta \\right)} \\cos^{6}{\\left(\\theta \\right)} - 3.5647891987513 \\cdot 10^{18} \\sin^{32}{\\left(\\theta \\right)} \\cos^{8}{\\left(\\theta \\right)} - 1.29828505306972 \\cdot 10^{19} \\sin^{30}{\\left(\\theta \\right)} \\cos^{10}{\\left(\\theta \\right)} - 3.61718205202914 \\cdot 10^{19} \\sin^{28}{\\left(\\theta \\right)} \\cos^{12}{\\left(\\theta \\right)} - 7.92680855442248 \\cdot 10^{19} \\sin^{26}{\\left(\\theta \\right)} \\cos^{14}{\\left(\\theta \\right)} - 1.3910360775026 \\cdot 10^{20} \\sin^{24}{\\left(\\theta \\right)} \\cos^{16}{\\left(\\theta \\right)} - 1.97669375900104 \\cdot 10^{20} \\sin^{22}{\\left(\\theta \\right)} \\cos^{18}{\\left(\\theta \\right)} - 2.28835272341311 \\cdot 10^{20} \\sin^{20}{\\left(\\theta \\right)} \\cos^{20}{\\left(\\theta \\right)} - 2.16188302018731 \\cdot 10^{20} \\sin^{18}{\\left(\\theta \\right)} \\cos^{22}{\\left(\\theta \\right)} - 1.66278558842872 \\cdot 10^{20} \\sin^{16}{\\left(\\theta \\right)} \\cos^{24}{\\left(\\theta \\right)} - 1.03424289498439 \\cdot 10^{20} \\sin^{14}{\\left(\\theta \\right)} \\cos^{26}{\\left(\\theta \\right)} - 5.14094812903226 \\cdot 10^{19} \\sin^{12}{\\left(\\theta \\right)} \\cos^{28}{\\left(\\theta \\right)} - 2.0044661144641 \\cdot 10^{19} \\sin^{10}{\\left(\\theta \\right)} \\cos^{30}{\\left(\\theta \\right)} - 5.95766745057232 \\cdot 10^{18} \\sin^{8}{\\left(\\theta \\right)} \\cos^{32}{\\left(\\theta \\right)} - 1.29079094276795 \\cdot 10^{18} \\sin^{6}{\\left(\\theta \\right)} \\cos^{34}{\\left(\\theta \\right)} - 1.89227113423517 \\cdot 10^{17} \\sin^{4}{\\left(\\theta \\right)} \\cos^{36}{\\left(\\theta \\right)} - 1.63092611862643 \\cdot 10^{16} \\sin^{2}{\\left(\\theta \\right)} \\cos^{38}{\\left(\\theta \\right)} - 585327783558793.0 \\cos^{40}{\\left(\\theta \\right)}\\right)}{2.81376925917223 \\cdot 10^{23} \\sin^{40}{\\left(\\theta \\right)} + 5.48570776408983 \\cdot 10^{24} \\sin^{38}{\\left(\\theta \\right)} \\cos^{2}{\\left(\\theta \\right)} + 5.1013501097647 \\cdot 10^{25} \\sin^{36}{\\left(\\theta \\right)} \\cos^{4}{\\left(\\theta \\right)} + 3.00820481997919 \\cdot 10^{26} \\sin^{34}{\\left(\\theta \\right)} \\cos^{6}{\\left(\\theta \\right)} + 1.26136332999899 \\cdot 10^{27} \\sin^{32}{\\left(\\theta \\right)} \\cos^{8}{\\left(\\theta \\right)} + 3.9971091897553 \\cdot 10^{27} \\sin^{30}{\\left(\\theta \\right)} \\cos^{10}{\\left(\\theta \\right)} + 9.93129287852036 \\cdot 10^{27} \\sin^{28}{\\left(\\theta \\right)} \\cos^{12}{\\left(\\theta \\right)} + 1.98101466658253 \\cdot 10^{28} \\sin^{26}{\\left(\\theta \\right)} \\cos^{14}{\\left(\\theta \\right)} + 3.22189751364372 \\cdot 10^{28} \\sin^{24}{\\left(\\theta \\right)} \\cos^{16}{\\left(\\theta \\right)} + 4.31465288808029 \\cdot 10^{28} \\sin^{22}{\\left(\\theta \\right)} \\cos^{18}{\\left(\\theta \\right)} + 4.78391732853547 \\cdot 10^{28} \\sin^{20}{\\left(\\theta \\right)} \\cos^{20}{\\left(\\theta \\right)} + 4.39975142656507 \\cdot 10^{28} \\sin^{18}{\\left(\\theta \\right)} \\cos^{22}{\\left(\\theta \\right)} + 3.35100762609379 \\cdot 10^{28} \\sin^{16}{\\left(\\theta \\right)} \\cos^{24}{\\left(\\theta \\right)} + 2.10244293149475 \\cdot 10^{28} \\sin^{14}{\\left(\\theta \\right)} \\cos^{26}{\\left(\\theta \\right)} + 1.0761811840623 \\cdot 10^{28} \\sin^{12}{\\left(\\theta \\right)} \\cos^{28}{\\left(\\theta \\right)} + 4.4258668682488 \\cdot 10^{27} \\sin^{10}{\\left(\\theta \\right)} \\cos^{30}{\\left(\\theta \\right)} + 1.42833413326172 \\cdot 10^{27} \\sin^{8}{\\left(\\theta \\right)} \\cos^{32}{\\left(\\theta \\right)} + 3.48662689375986 \\cdot 10^{26} \\sin^{6}{\\left(\\theta \\right)} \\cos^{34}{\\left(\\theta \\right)} + 6.0567420066463 \\cdot 10^{25} \\sin^{4}{\\left(\\theta \\right)} \\cos^{36}{\\left(\\theta \\right)} + 6.67629552549428 \\cdot 10^{24} \\sin^{2}{\\left(\\theta \\right)} \\cos^{38}{\\left(\\theta \\right)} + 3.51196670135276 \\cdot 10^{23} \\cos^{40}{\\left(\\theta \\right)}} - \\frac{100000 \\cdot \\left(5.00780437044745 \\cdot 10^{15} \\sin^{52}{\\left(\\theta \\right)} + 1.26140478668054 \\cdot 10^{17} \\sin^{50}{\\left(\\theta \\right)} \\cos^{2}{\\left(\\theta \\right)} + 1.52974801664932 \\cdot 10^{18} \\sin^{48}{\\left(\\theta \\right)} \\cos^{4}{\\left(\\theta \\right)} + 1.1888517760666 \\cdot 10^{19} \\sin^{46}{\\left(\\theta \\right)} \\cos^{6}{\\left(\\theta \\right)} + 6.64836726992716 \\cdot 10^{19} \\sin^{44}{\\left(\\theta \\right)} \\cos^{8}{\\left(\\theta \\right)} + 2.84792107970864 \\cdot 10^{20} \\sin^{42}{\\left(\\theta \\right)} \\cos^{10}{\\left(\\theta \\right)} + 9.71265234505723 \\cdot 10^{20} \\sin^{40}{\\left(\\theta \\right)} \\cos^{12}{\\left(\\theta \\right)} + 2.70605784484495 \\cdot 10^{21} \\sin^{38}{\\left(\\theta \\right)} \\cos^{14}{\\left(\\theta \\right)} + 6.27107290465349 \\cdot 10^{21} \\sin^{36}{\\left(\\theta \\right)} \\cos^{16}{\\left(\\theta \\right)} + 1.22445109075297 \\cdot 10^{22} \\sin^{34}{\\left(\\theta \\right)} \\cos^{18}{\\left(\\theta \\right)} + 2.03306152366077 \\cdot 10^{22} \\sin^{32}{\\left(\\theta \\right)} \\cos^{20}{\\left(\\theta \\right)} + 2.88934698319251 \\cdot 10^{22} \\sin^{30}{\\left(\\theta \\right)} \\cos^{22}{\\left(\\theta \\right)} + 3.53000242312425 \\cdot 10^{22} \\sin^{28}{\\left(\\theta \\right)} \\cos^{24}{\\left(\\theta \\right)} + 3.71673939819022 \\cdot 10^{22} \\sin^{26}{\\left(\\theta \\right)} \\cos^{26}{\\left(\\theta \\right)} + 3.37539264164662 \\cdot 10^{22} \\sin^{24}{\\left(\\theta \\right)} \\cos^{28}{\\left(\\theta \\right)} + 2.6419713328283 \\cdot 10^{22} \\sin^{22}{\\left(\\theta \\right)} \\cos^{30}{\\left(\\theta \\right)} + 1.77795538422269 \\cdot 10^{22} \\sin^{20}{\\left(\\theta \\right)} \\cos^{32}{\\left(\\theta \\right)} + 1.02436784413486 \\cdot 10^{22} \\sin^{18}{\\left(\\theta \\right)} \\cos^{34}{\\left(\\theta \\right)} + 5.02055261329032 \\cdot 10^{21} \\sin^{16}{\\left(\\theta \\right)} \\cos^{36}{\\left(\\theta \\right)} + 2.07421601341936 \\cdot 10^{21} \\sin^{14}{\\left(\\theta \\right)} \\cos^{38}{\\left(\\theta \\right)} + 7.13263153340271 \\cdot 10^{20} \\sin^{12}{\\left(\\theta \\right)} \\cos^{40}{\\left(\\theta \\right)} + 2.00546530447451 \\cdot 10^{20} \\sin^{10}{\\left(\\theta \\right)} \\cos^{42}{\\left(\\theta \\right)} + 4.4943610264308 \\cdot 10^{19} \\sin^{8}{\\left(\\theta \\right)} \\cos^{44}{\\left(\\theta \\right)} + 7.726186855359 \\cdot 10^{18} \\sin^{6}{\\left(\\theta \\right)} \\cos^{46}{\\left(\\theta \\right)} + 9.57427517169615 \\cdot 10^{17} \\sin^{4}{\\left(\\theta \\right)} \\cos^{48}{\\left(\\theta \\right)} + 7.61925078043705 \\cdot 10^{16} \\sin^{2}{\\left(\\theta \\right)} \\cos^{50}{\\left(\\theta \\right)} + 2.92663891779397 \\cdot 10^{15} \\cos^{52}{\\left(\\theta \\right)}\\right)}{2.81376925917223 \\cdot 10^{23} \\sin^{52}{\\left(\\theta \\right)} + 7.17396931959317 \\cdot 10^{24} \\sin^{50}{\\left(\\theta \\right)} \\cos^{2}{\\left(\\theta \\right)} + 8.81484015709443 \\cdot 10^{25} \\sin^{48}{\\left(\\theta \\right)} \\cos^{4}{\\left(\\theta \\right)} + 6.94814643563492 \\cdot 10^{26} \\sin^{46}{\\left(\\theta \\right)} \\cos^{6}{\\left(\\theta \\right)} + 3.94542354762177 \\cdot 10^{27} \\sin^{44}{\\left(\\theta \\right)} \\cos^{8}{\\left(\\theta \\right)} + 1.71818402996878 \\cdot 10^{28} \\sin^{42}{\\left(\\theta \\right)} \\cos^{10}{\\left(\\theta \\right)} + 5.96492057469706 \\cdot 10^{28} \\sin^{40}{\\left(\\theta \\right)} \\cos^{12}{\\left(\\theta \\right)} + 1.69405682327575 \\cdot 10^{29} \\sin^{38}{\\left(\\theta \\right)} \\cos^{14}{\\left(\\theta \\right)} + 4.0076781844737 \\cdot 10^{29} \\sin^{36}{\\left(\\theta \\right)} \\cos^{16}{\\left(\\theta \\right)} + 8.00064075565534 \\cdot 10^{29} \\sin^{34}{\\left(\\theta \\right)} \\cos^{18}{\\left(\\theta \\right)} + 1.36041931857957 \\cdot 10^{30} \\sin^{32}{\\left(\\theta \\right)} \\cos^{20}{\\left(\\theta \\right)} + 1.98334705636682 \\cdot 10^{30} \\sin^{30}{\\left(\\theta \\right)} \\cos^{22}{\\left(\\theta \\right)} + 2.49009013867125 \\cdot 10^{30} \\sin^{28}{\\left(\\theta \\right)} \\cos^{24}{\\left(\\theta \\right)} + 2.69915299726892 \\cdot 10^{30} \\sin^{26}{\\left(\\theta \\right)} \\cos^{26}{\\left(\\theta \\right)} + 2.52819556465896 \\cdot 10^{30} \\sin^{24}{\\left(\\theta \\right)} \\cos^{28}{\\left(\\theta \\right)} + 2.04470898543265 \\cdot 10^{30} \\sin^{22}{\\left(\\theta \\right)} \\cos^{30}{\\left(\\theta \\right)} + 1.42437470204438 \\cdot 10^{30} \\sin^{20}{\\left(\\theta \\right)} \\cos^{32}{\\left(\\theta \\right)} + 8.50967318880629 \\cdot 10^{29} \\sin^{18}{\\left(\\theta \\right)} \\cos^{34}{\\left(\\theta \\right)} + 4.33178722680192 \\cdot 10^{29} \\sin^{16}{\\left(\\theta \\right)} \\cos^{36}{\\left(\\theta \\right)} + 1.86150007204216 \\cdot 10^{29} \\sin^{14}{\\left(\\theta \\right)} \\cos^{38}{\\left(\\theta \\right)} + 6.66641991073814 \\cdot 10^{28} \\sin^{12}{\\left(\\theta \\right)} \\cos^{40}{\\left(\\theta \\right)} + 1.95394120226914 \\cdot 10^{28} \\sin^{10}{\\left(\\theta \\right)} \\cos^{42}{\\left(\\theta \\right)} + 4.5676154310765 \\cdot 10^{27} \\sin^{8}{\\left(\\theta \\right)} \\cos^{44}{\\left(\\theta \\right)} + 8.19235576059884 \\cdot 10^{26} \\sin^{6}{\\left(\\theta \\right)} \\cos^{46}{\\left(\\theta \\right)} + 1.05893143271458 \\cdot 10^{26} \\sin^{4}{\\left(\\theta \\right)} \\cos^{48}{\\left(\\theta \\right)} + 8.78347554630593 \\cdot 10^{24} \\sin^{2}{\\left(\\theta \\right)} \\cos^{50}{\\left(\\theta \\right)} + 3.51196670135276 \\cdot 10^{23} \\cos^{52}{\\left(\\theta \\right)}}\\\\- \\frac{100000 \\left(- 4838709.67741936 \\sin^{16}{\\left(\\theta \\right)} - 81032258.0645161 \\sin^{14}{\\left(\\theta \\right)} \\cos^{2}{\\left(\\theta \\right)} - 389419354.83871 \\sin^{12}{\\left(\\theta \\right)} \\cos^{4}{\\left(\\theta \\right)} - 905806451.612903 \\sin^{10}{\\left(\\theta \\right)} \\cos^{6}{\\left(\\theta \\right)} - 1185161290.32258 \\sin^{8}{\\left(\\theta \\right)} \\cos^{8}{\\left(\\theta \\right)} - 905806451.612903 \\sin^{6}{\\left(\\theta \\right)} \\cos^{10}{\\left(\\theta \\right)} - 389419354.83871 \\sin^{4}{\\left(\\theta \\right)} \\cos^{12}{\\left(\\theta \\right)} - 81032258.0645161 \\sin^{2}{\\left(\\theta \\right)} \\cos^{14}{\\left(\\theta \\right)} - 4838709.67741936 \\cos^{16}{\\left(\\theta \\right)}\\right)}{4.9843912591051 \\cdot 10^{15} \\sin^{16}{\\left(\\theta \\right)} + 3.5403121748179 \\cdot 10^{16} \\sin^{14}{\\left(\\theta \\right)} \\cos^{2}{\\left(\\theta \\right)} + 1.10649739854318 \\cdot 10^{17} \\sin^{12}{\\left(\\theta \\right)} \\cos^{4}{\\left(\\theta \\right)} + 1.99558792924038 \\cdot 10^{17} \\sin^{10}{\\left(\\theta \\right)} \\cos^{6}{\\left(\\theta \\right)} + 2.28249739854318 \\cdot 10^{17} \\sin^{8}{\\left(\\theta \\right)} \\cos^{8}{\\left(\\theta \\right)} + 1.70422476586889 \\cdot 10^{17} \\sin^{6}{\\left(\\theta \\right)} \\cos^{10}{\\left(\\theta \\right)} + 8.15134235171696 \\cdot 10^{16} \\sin^{4}{\\left(\\theta \\right)} \\cos^{12}{\\left(\\theta \\right)} + 2.29161290322581 \\cdot 10^{16} \\sin^{2}{\\left(\\theta \\right)} \\cos^{14}{\\left(\\theta \\right)} + 2.90322580645161 \\cdot 10^{15} \\cos^{16}{\\left(\\theta \\right)}} - \\frac{200000 \\cdot \\left(56451612.9032258 \\sin^{16}{\\left(\\theta \\right)} + 473806451.612903 \\sin^{14}{\\left(\\theta \\right)} \\cos^{2}{\\left(\\theta \\right)} + 1778322580.64516 \\sin^{12}{\\left(\\theta \\right)} \\cos^{4}{\\left(\\theta \\right)} + 3881290322.58064 \\sin^{10}{\\left(\\theta \\right)} \\cos^{6}{\\left(\\theta \\right)} + 5363225806.45161 \\sin^{8}{\\left(\\theta \\right)} \\cos^{8}{\\left(\\theta \\right)} + 4784516129.03226 \\sin^{6}{\\left(\\theta \\right)} \\cos^{10}{\\left(\\theta \\right)} + 2681548387.09677 \\sin^{4}{\\left(\\theta \\right)} \\cos^{12}{\\left(\\theta \\right)} + 860903225.806452 \\sin^{2}{\\left(\\theta \\right)} \\cos^{14}{\\left(\\theta \\right)} + 120967741.935484 \\cos^{16}{\\left(\\theta \\right)}\\right)}{4.9843912591051 \\cdot 10^{15} \\sin^{16}{\\left(\\theta \\right)} + 3.5403121748179 \\cdot 10^{16} \\sin^{14}{\\left(\\theta \\right)} \\cos^{2}{\\left(\\theta \\right)} + 1.10649739854318 \\cdot 10^{17} \\sin^{12}{\\left(\\theta \\right)} \\cos^{4}{\\left(\\theta \\right)} + 1.99558792924038 \\cdot 10^{17} \\sin^{10}{\\left(\\theta \\right)} \\cos^{6}{\\left(\\theta \\right)} + 2.28249739854318 \\cdot 10^{17} \\sin^{8}{\\left(\\theta \\right)} \\cos^{8}{\\left(\\theta \\right)} + 1.70422476586889 \\cdot 10^{17} \\sin^{6}{\\left(\\theta \\right)} \\cos^{10}{\\left(\\theta \\right)} + 8.15134235171696 \\cdot 10^{16} \\sin^{4}{\\left(\\theta \\right)} \\cos^{12}{\\left(\\theta \\right)} + 2.29161290322581 \\cdot 10^{16} \\sin^{2}{\\left(\\theta \\right)} \\cos^{14}{\\left(\\theta \\right)} + 2.90322580645161 \\cdot 10^{15} \\cos^{16}{\\left(\\theta \\right)}}\\\\0\\end{matrix}\\right]$"
      ],
      "text/plain": [
       "Matrix([\n",
       "[-200000*(-273152965660770.0*sin(theta)**40 - 7.95962539021853e+15*sin(theta)**38*cos(theta)**2 - 9.80887159209157e+16*sin(theta)**36*cos(theta)**4 - 7.16747238293445e+17*sin(theta)**34*cos(theta)**6 - 3.5647891987513e+18*sin(theta)**32*cos(theta)**8 - 1.29828505306972e+19*sin(theta)**30*cos(theta)**10 - 3.61718205202914e+19*sin(theta)**28*cos(theta)**12 - 7.92680855442248e+19*sin(theta)**26*cos(theta)**14 - 1.3910360775026e+20*sin(theta)**24*cos(theta)**16 - 1.97669375900104e+20*sin(theta)**22*cos(theta)**18 - 2.28835272341311e+20*sin(theta)**20*cos(theta)**20 - 2.16188302018731e+20*sin(theta)**18*cos(theta)**22 - 1.66278558842872e+20*sin(theta)**16*cos(theta)**24 - 1.03424289498439e+20*sin(theta)**14*cos(theta)**26 - 5.14094812903226e+19*sin(theta)**12*cos(theta)**28 - 2.0044661144641e+19*sin(theta)**10*cos(theta)**30 - 5.95766745057232e+18*sin(theta)**8*cos(theta)**32 - 1.29079094276795e+18*sin(theta)**6*cos(theta)**34 - 1.89227113423517e+17*sin(theta)**4*cos(theta)**36 - 1.63092611862643e+16*sin(theta)**2*cos(theta)**38 - 585327783558793.0*cos(theta)**40)/(2.81376925917223e+23*sin(theta)**40 + 5.48570776408983e+24*sin(theta)**38*cos(theta)**2 + 5.1013501097647e+25*sin(theta)**36*cos(theta)**4 + 3.00820481997919e+26*sin(theta)**34*cos(theta)**6 + 1.26136332999899e+27*sin(theta)**32*cos(theta)**8 + 3.9971091897553e+27*sin(theta)**30*cos(theta)**10 + 9.93129287852036e+27*sin(theta)**28*cos(theta)**12 + 1.98101466658253e+28*sin(theta)**26*cos(theta)**14 + 3.22189751364372e+28*sin(theta)**24*cos(theta)**16 + 4.31465288808029e+28*sin(theta)**22*cos(theta)**18 + 4.78391732853547e+28*sin(theta)**20*cos(theta)**20 + 4.39975142656507e+28*sin(theta)**18*cos(theta)**22 + 3.35100762609379e+28*sin(theta)**16*cos(theta)**24 + 2.10244293149475e+28*sin(theta)**14*cos(theta)**26 + 1.0761811840623e+28*sin(theta)**12*cos(theta)**28 + 4.4258668682488e+27*sin(theta)**10*cos(theta)**30 + 1.42833413326172e+27*sin(theta)**8*cos(theta)**32 + 3.48662689375986e+26*sin(theta)**6*cos(theta)**34 + 6.0567420066463e+25*sin(theta)**4*cos(theta)**36 + 6.67629552549428e+24*sin(theta)**2*cos(theta)**38 + 3.51196670135276e+23*cos(theta)**40) - 100000*(5.00780437044745e+15*sin(theta)**52 + 1.26140478668054e+17*sin(theta)**50*cos(theta)**2 + 1.52974801664932e+18*sin(theta)**48*cos(theta)**4 + 1.1888517760666e+19*sin(theta)**46*cos(theta)**6 + 6.64836726992716e+19*sin(theta)**44*cos(theta)**8 + 2.84792107970864e+20*sin(theta)**42*cos(theta)**10 + 9.71265234505723e+20*sin(theta)**40*cos(theta)**12 + 2.70605784484495e+21*sin(theta)**38*cos(theta)**14 + 6.27107290465349e+21*sin(theta)**36*cos(theta)**16 + 1.22445109075297e+22*sin(theta)**34*cos(theta)**18 + 2.03306152366077e+22*sin(theta)**32*cos(theta)**20 + 2.88934698319251e+22*sin(theta)**30*cos(theta)**22 + 3.53000242312425e+22*sin(theta)**28*cos(theta)**24 + 3.71673939819022e+22*sin(theta)**26*cos(theta)**26 + 3.37539264164662e+22*sin(theta)**24*cos(theta)**28 + 2.6419713328283e+22*sin(theta)**22*cos(theta)**30 + 1.77795538422269e+22*sin(theta)**20*cos(theta)**32 + 1.02436784413486e+22*sin(theta)**18*cos(theta)**34 + 5.02055261329032e+21*sin(theta)**16*cos(theta)**36 + 2.07421601341936e+21*sin(theta)**14*cos(theta)**38 + 7.13263153340271e+20*sin(theta)**12*cos(theta)**40 + 2.00546530447451e+20*sin(theta)**10*cos(theta)**42 + 4.4943610264308e+19*sin(theta)**8*cos(theta)**44 + 7.726186855359e+18*sin(theta)**6*cos(theta)**46 + 9.57427517169615e+17*sin(theta)**4*cos(theta)**48 + 7.61925078043705e+16*sin(theta)**2*cos(theta)**50 + 2.92663891779397e+15*cos(theta)**52)/(2.81376925917223e+23*sin(theta)**52 + 7.17396931959317e+24*sin(theta)**50*cos(theta)**2 + 8.81484015709443e+25*sin(theta)**48*cos(theta)**4 + 6.94814643563492e+26*sin(theta)**46*cos(theta)**6 + 3.94542354762177e+27*sin(theta)**44*cos(theta)**8 + 1.71818402996878e+28*sin(theta)**42*cos(theta)**10 + 5.96492057469706e+28*sin(theta)**40*cos(theta)**12 + 1.69405682327575e+29*sin(theta)**38*cos(theta)**14 + 4.0076781844737e+29*sin(theta)**36*cos(theta)**16 + 8.00064075565534e+29*sin(theta)**34*cos(theta)**18 + 1.36041931857957e+30*sin(theta)**32*cos(theta)**20 + 1.98334705636682e+30*sin(theta)**30*cos(theta)**22 + 2.49009013867125e+30*sin(theta)**28*cos(theta)**24 + 2.69915299726892e+30*sin(theta)**26*cos(theta)**26 + 2.52819556465896e+30*sin(theta)**24*cos(theta)**28 + 2.04470898543265e+30*sin(theta)**22*cos(theta)**30 + 1.42437470204438e+30*sin(theta)**20*cos(theta)**32 + 8.50967318880629e+29*sin(theta)**18*cos(theta)**34 + 4.33178722680192e+29*sin(theta)**16*cos(theta)**36 + 1.86150007204216e+29*sin(theta)**14*cos(theta)**38 + 6.66641991073814e+28*sin(theta)**12*cos(theta)**40 + 1.95394120226914e+28*sin(theta)**10*cos(theta)**42 + 4.5676154310765e+27*sin(theta)**8*cos(theta)**44 + 8.19235576059884e+26*sin(theta)**6*cos(theta)**46 + 1.05893143271458e+26*sin(theta)**4*cos(theta)**48 + 8.78347554630593e+24*sin(theta)**2*cos(theta)**50 + 3.51196670135276e+23*cos(theta)**52)],\n",
       "[                                                                                                                                                                                                                                                                                                                                                                                                                                                                                                                                                                                                                                                                                                                                                                                                                                                                                                                                                                                                                                                                                                                                                                                                                                                                                                                                                                                                                                                                                                                                                                                                                                                                                                                                                                                                                                                                                                                                                                                                                                                                                                                                                                                                                                                                                                                                                                                                                                                                                                                                                                                                                                                                                                                                                                                                                                                                                                                                                                                                                                                                                                                                                                                                                                                                                                                                                                     -100000*(-4838709.67741936*sin(theta)**16 - 81032258.0645161*sin(theta)**14*cos(theta)**2 - 389419354.83871*sin(theta)**12*cos(theta)**4 - 905806451.612903*sin(theta)**10*cos(theta)**6 - 1185161290.32258*sin(theta)**8*cos(theta)**8 - 905806451.612903*sin(theta)**6*cos(theta)**10 - 389419354.83871*sin(theta)**4*cos(theta)**12 - 81032258.0645161*sin(theta)**2*cos(theta)**14 - 4838709.67741936*cos(theta)**16)/(4.9843912591051e+15*sin(theta)**16 + 3.5403121748179e+16*sin(theta)**14*cos(theta)**2 + 1.10649739854318e+17*sin(theta)**12*cos(theta)**4 + 1.99558792924038e+17*sin(theta)**10*cos(theta)**6 + 2.28249739854318e+17*sin(theta)**8*cos(theta)**8 + 1.70422476586889e+17*sin(theta)**6*cos(theta)**10 + 8.15134235171696e+16*sin(theta)**4*cos(theta)**12 + 2.29161290322581e+16*sin(theta)**2*cos(theta)**14 + 2.90322580645161e+15*cos(theta)**16) - 200000*(56451612.9032258*sin(theta)**16 + 473806451.612903*sin(theta)**14*cos(theta)**2 + 1778322580.64516*sin(theta)**12*cos(theta)**4 + 3881290322.58064*sin(theta)**10*cos(theta)**6 + 5363225806.45161*sin(theta)**8*cos(theta)**8 + 4784516129.03226*sin(theta)**6*cos(theta)**10 + 2681548387.09677*sin(theta)**4*cos(theta)**12 + 860903225.806452*sin(theta)**2*cos(theta)**14 + 120967741.935484*cos(theta)**16)/(4.9843912591051e+15*sin(theta)**16 + 3.5403121748179e+16*sin(theta)**14*cos(theta)**2 + 1.10649739854318e+17*sin(theta)**12*cos(theta)**4 + 1.99558792924038e+17*sin(theta)**10*cos(theta)**6 + 2.28249739854318e+17*sin(theta)**8*cos(theta)**8 + 1.70422476586889e+17*sin(theta)**6*cos(theta)**10 + 8.15134235171696e+16*sin(theta)**4*cos(theta)**12 + 2.29161290322581e+16*sin(theta)**2*cos(theta)**14 + 2.90322580645161e+15*cos(theta)**16)],\n",
       "[                                                                                                                                                                                                                                                                                                                                                                                                                                                                                                                                                                                                                                                                                                                                                                                                                                                                                                                                                                                                                                                                                                                                                                                                                                                                                                                                                                                                                                                                                                                                                                                                                                                                                                                                                                                                                                                                                                                                                                                                                                                                                                                                                                                                                                                                                                                                                                                                                                                                                                                                                                                                                                                                                                                                                                                                                                                                                                                                                                                                                                                                                                                                                                                                                                                                                                                                                                                                                                                                                                                                                                                                                                                                                                                                                                                                                                                                                                                                                                                                                                                                                                                                                                                                                                                                                                                                                                                                                                                                                                                                                                                                                                                                                                                                                                                                                                                                                                                                                                                                                                                                                                                                   0]])"
      ]
     },
     "metadata": {},
     "output_type": "display_data"
    }
   ],
   "source": [
    "N_matrix = sym.Matrix([[N_x, N_y, 0]])\n",
    "epsilon_matrix = A_inv * N_matrix.T\n",
    "display(epsilon_matrix)"
   ]
  },
  {
   "cell_type": "code",
   "execution_count": 4,
   "metadata": {},
   "outputs": [
    {
     "data": {
      "image/png": "[encoded data removed]",
      "text/plain": [
       "<Figure size 640x480 with 1 Axes>"
      ]
     },
     "metadata": {},
     "output_type": "display_data"
    }
   ],
   "source": [
    "# Lambdify the expression\n",
    "epsilon_func_0 = sym.lambdify(theta, epsilon_matrix[0], modules=['numpy'])\n",
    "epsilon_func_1 = sym.lambdify(theta, epsilon_matrix[1], modules=['numpy'])\n",
    "epsilon_func_2 = sym.lambdify(theta, epsilon_matrix[2], modules=['numpy'])\n",
    "\n",
    "# Create a range of theta\n",
    "theta_range = np.linspace(0, np.pi/2, 100)\n",
    "\n",
    "eps_2 = [epsilon_func_2(theta) for theta in theta_range]\n",
    "# Calculate the epsilon\n",
    "# Plot the results\n",
    "plt.plot(np.degrees(theta_range), epsilon_func_0(theta_range), label=r'$\\epsilon_x$')\n",
    "plt.plot(np.degrees(theta_range), epsilon_func_1(theta_range), label=r'$\\epsilon_y$')\n",
    "plt.plot(np.degrees(theta_range), eps_2, label=r'$\\gamma_{xy}$')\n",
    "plt.ylabel(r'$\\epsilon_x$')\n",
    "plt.legend()\n",
    "plt.show()"
   ]
  },
  {
   "cell_type": "markdown",
   "metadata": {},
   "source": [
    "#### Since we have a symmetric plate, there will be no shear strain. When the angle of the ply gets more aligned with the greatest force the stress will decrease as the plate is more resistant and the stress is more even in between the two directions. When the angle is perpendicular to the force, the plate will experience the greatest stress."
   ]
  },
  {
   "cell_type": "markdown",
   "metadata": {},
   "source": [
    "#### A good initial value for the angle is above 50 degrees, this should decrease $\\epsilon_y$ enough to not cause a failure"
   ]
  },
  {
   "cell_type": "markdown",
   "metadata": {},
   "source": [
    "# <center> C <center>"
   ]
  },
  {
   "cell_type": "code",
   "execution_count": 5,
   "metadata": {},
   "outputs": [
    {
     "name": "stdout",
     "output_type": "stream",
     "text": [
      "No failure at angle 0.0\n",
      "No failure at angle 40.0\n",
      "No failure at angle -40.0\n"
     ]
    }
   ],
   "source": [
    "X_t = 600e6\n",
    "X_c = -800e6\n",
    "Y_t = 100e6\n",
    "Y_c = -200e6\n",
    "S = 200e6\n",
    "\n",
    "# Q matrix\n",
    "Q = [[E_L/(1-nu_LT*nu_TL), E_L*nu_TL/(1-nu_LT*nu_TL), 0],\n",
    "     [E_L*nu_TL/(1-nu_LT*nu_TL), E_T/(1-nu_LT*nu_TL), 0],\n",
    "     [0, 0, G_LT]]\n",
    "\n",
    "T_sigma = lambda theta: [[np.cos(theta)**2, np.sin(theta)**2, 2*np.cos(theta)*np.sin(theta)],\n",
    "                   [np.sin(theta)**2, np.cos(theta)**2, -2*np.cos(theta)*np.sin(theta)],\n",
    "                   [-np.cos(theta)*np.sin(theta), np.cos(theta)*np.sin(theta), np.cos(theta)**2-np.sin(theta)**2]]\n",
    "T_epsilon = lambda theta: [[np.cos(theta)**2, np.sin(theta)**2, np.cos(theta)*np.sin(theta)],\n",
    "                     [np.sin(theta)**2, np.cos(theta)**2, -np.cos(theta)*np.sin(theta)],\n",
    "                     [-2*np.cos(theta)*np.sin(theta), 2*np.cos(theta)*np.sin(theta), np.cos(theta)**2-np.sin(theta)**2]]\n",
    "\n",
    "Q_bar = lambda theta: np.dot(np.dot(np.linalg.inv(T_sigma(theta)), Q), T_epsilon(theta))\n",
    "\n",
    "angle_list = [0, 40, -40]\n",
    "# Convert to radians\n",
    "angle_list = [angle*np.pi/180 for angle in angle_list]\n",
    "Q_list = []\n",
    "for angle in angle_list:\n",
    "    Q_list.append(Q_bar(angle))\n",
    "\n",
    "Q = sym.Matrix(Q)\n",
    "A = 2*t*(sum(Q_list))\n",
    "A_inv = np.linalg.inv(A)\n",
    "eps_naught = sym.Matrix(np.dot(A_inv, [N_x, N_y, 0]))\n",
    "def Tsai_eps():\n",
    "    T_eps = sym.Matrix([[sym.cos(theta)**2, sym.sin(theta)**2, 2*sym.cos(theta)*sym.sin(theta)],\n",
    "                [sym.sin(theta)**2, sym.cos(theta)**2, -2*sym.cos(theta)*sym.sin(theta)],\n",
    "                [-sym.cos(theta)*sym.sin(theta), sym.cos(theta)*sym.sin(theta), sym.cos(theta)**2-sym.sin(theta)**2]])\n",
    "    return T_eps\n",
    "\n",
    "def Tsai_hill(sigma_x, sigma_y, tau_xy):\n",
    "    value = sigma_x**2/(X_c**2) - sigma_x*sigma_y/(X_c**2) + sigma_y**2/(Y_c**2) + tau_xy**2/(S**2)\n",
    "    return value\n",
    "\n",
    "T_eps = Tsai_eps()\n",
    "def Tsai_hill_criterion(angle_list):\n",
    "    for angle in angle_list:\n",
    "        epsilon_theta = A_inv*sym.Matrix([N_x, N_y, N_xy])\n",
    "        T_eps_theta = T_eps.subs(theta, angle)\n",
    "        sigma_theta = Q*(T_eps_theta*epsilon_theta)\n",
    "        sigma_x, sigma_y, tau_xy = sigma_theta\n",
    "        Tsai_hill_value = Tsai_hill(sigma_x, sigma_y, tau_xy)\n",
    "        if Tsai_hill_value > 1:\n",
    "            print(f'Angle {np.rad2deg(angle)} is not safe')\n",
    "        else:\n",
    "            print(f'No failure at angle {np.rad2deg(angle)}')\n",
    "\n",
    "Tsai_hill_criterion(angle_list)"
   ]
  },
  {
   "cell_type": "code",
   "execution_count": 6,
   "metadata": {},
   "outputs": [
    {
     "name": "stdout",
     "output_type": "stream",
     "text": [
      "0.00\n",
      "No failure at angle 0.0\n",
      "0.01\n",
      "No failure at angle 40.0\n",
      "0.01\n",
      "No failure at angle -40.0\n"
     ]
    }
   ],
   "source": [
    "import matplotlib.pyplot as plt\n",
    "import sympy as sym\n",
    "import numpy as np\n",
    "import warnings\n",
    "warnings.filterwarnings(\"ignore\", category=DeprecationWarning)\n",
    "\n",
    "theta = sym.symbols('theta')\n",
    "\n",
    "# Material properties\n",
    "E_L = 400 #GPa\n",
    "E_L = 400e9 #Pa\n",
    "E_T = 50 #GPa\n",
    "E_T = 50e9 #Pa\n",
    "nu_LT = 0.1\n",
    "# nu_TL = E_T/E_L*nu_LT\n",
    "nu_TL = E_T/E_L*nu_LT\n",
    "G_LT = 40 #GPa\n",
    "G_LT = 40e9 #Pa\n",
    "t = 0.1 #mm\n",
    "t = 0.1e-3 #m\n",
    "repetitions = 1\n",
    "symmetry = True\n",
    "N_x = 0 # [N/m]\n",
    "N_y = 0 # [N/m]\n",
    "N_xy = 10_000 # [N/m]\n",
    "\n",
    "X_t = 700e6\n",
    "X_c = -800e6\n",
    "Y_t = 150e6\n",
    "Y_c = -300e6\n",
    "S = 150e6\n",
    "\n",
    "# Q matrix\n",
    "Q = [[E_L/(1-nu_LT*nu_TL), E_L*nu_TL/(1-nu_LT*nu_TL), 0],\n",
    "     [E_L*nu_TL/(1-nu_LT*nu_TL), E_T/(1-nu_LT*nu_TL), 0],\n",
    "     [0, 0, G_LT]]\n",
    "\n",
    "T_sigma = lambda theta: [[np.cos(theta)**2, np.sin(theta)**2, 2*np.cos(theta)*np.sin(theta)],\n",
    "                   [np.sin(theta)**2, np.cos(theta)**2, -2*np.cos(theta)*np.sin(theta)],\n",
    "                   [-np.cos(theta)*np.sin(theta), np.cos(theta)*np.sin(theta), np.cos(theta)**2-np.sin(theta)**2]]\n",
    "T_epsilon = lambda theta: [[np.cos(theta)**2, np.sin(theta)**2, np.cos(theta)*np.sin(theta)],\n",
    "                     [np.sin(theta)**2, np.cos(theta)**2, -np.cos(theta)*np.sin(theta)],\n",
    "                     [-2*np.cos(theta)*np.sin(theta), 2*np.cos(theta)*np.sin(theta), np.cos(theta)**2-np.sin(theta)**2]]\n",
    "\n",
    "Q_bar = lambda theta: np.dot(np.dot(np.linalg.inv(T_sigma(theta)), Q), T_epsilon(theta))\n",
    "\n",
    "angle_list = [0, 40, -40]\n",
    "\n",
    "# Convert to radians\n",
    "angle_list = [angle*np.pi/180 for angle in angle_list]\n",
    "Q_list = []\n",
    "for angle in angle_list:\n",
    "    Q_list.append(Q_bar(angle))\n",
    "\n",
    "Q = sym.Matrix(Q)\n",
    "A = 2*t*(sum(Q_list))\n",
    "A_inv = np.linalg.inv(A)\n",
    "eps_naught = sym.Matrix(np.dot(A_inv, [N_x, N_y, N_xy]))\n",
    "def Tsai_eps():\n",
    "    T_eps = sym.Matrix([[sym.cos(theta)**2, sym.sin(theta)**2, 2*sym.cos(theta)*sym.sin(theta)],\n",
    "                [sym.sin(theta)**2, sym.cos(theta)**2, -2*sym.cos(theta)*sym.sin(theta)],\n",
    "                [-sym.cos(theta)*sym.sin(theta), sym.cos(theta)*sym.sin(theta), sym.cos(theta)**2-sym.sin(theta)**2]])\n",
    "    return T_eps\n",
    "\n",
    "def Tsai_hill(sigma_x, sigma_y, tau_xy):\n",
    "    value = sigma_x**2/(X_c**2) - sigma_x*sigma_y/(X_c**2) + sigma_y**2/(Y_c**2) + tau_xy**2/(S**2)\n",
    "    return value\n",
    "\n",
    "T_eps = Tsai_eps()\n",
    "def Tsai_hill_criterion(angle_list):\n",
    "    for angle in angle_list:\n",
    "        epsilon_theta = A_inv*sym.Matrix([N_x, N_y, N_xy])\n",
    "        T_eps_theta = T_eps.subs(theta, angle)\n",
    "        sigma_theta = Q*(T_eps_theta*epsilon_theta)\n",
    "        sigma_x, sigma_y, tau_xy = sigma_theta\n",
    "        Tsai_hill_value = Tsai_hill(sigma_x, sigma_y, tau_xy)\n",
    "        print('{:.2f}'.format(Tsai_hill_value))\n",
    "        if Tsai_hill_value > 1:\n",
    "            print(f'Angle {np.rad2deg(angle)} is not safe')\n",
    "        else:\n",
    "            print(f'No failure at angle {np.rad2deg(angle)}')\n",
    "\n",
    "Tsai_hill_criterion(angle_list)"
   ]
  }
 ],
 "metadata": {
  "kernelspec": {
   "display_name": "Python 3",
   "language": "python",
   "name": "python3"
  },
  "language_info": {
   "codemirror_mode": {
    "name": "ipython",
    "version": 3
   },
   "file_extension": ".py",
   "mimetype": "text/x-python",
   "name": "python",
   "nbconvert_exporter": "python",
   "pygments_lexer": "ipython3",
   "version": "3.12.2"
  }
 },
 "nbformat": 4,
 "nbformat_minor": 2
}
